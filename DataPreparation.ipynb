{
  "nbformat": 4,
  "nbformat_minor": 0,
  "metadata": {
    "colab": {
      "provenance": [],
      "gpuType": "T4",
      "mount_file_id": "1mpjXoS86OMycEW9jekUVmoZtf34T-38c",
      "authorship_tag": "ABX9TyPSuaKMK0xgQnF+BAPma0Ht",
      "include_colab_link": true
    },
    "kernelspec": {
      "name": "python3",
      "display_name": "Python 3"
    },
    "language_info": {
      "name": "python"
    }
  },
  "cells": [
    {
      "cell_type": "markdown",
      "metadata": {
        "id": "view-in-github",
        "colab_type": "text"
      },
      "source": [
        "<a href=\"https://colab.research.google.com/github/EmamulHossen/Feature-Transformation/blob/main/DataPreparation.ipynb\" target=\"_parent\"><img src=\"https://colab.research.google.com/assets/colab-badge.svg\" alt=\"Open In Colab\"/></a>"
      ]
    },
    {
      "cell_type": "code",
      "source": [
        "from google.colab import drive"
      ],
      "metadata": {
        "id": "03AM6hUXJHqd"
      },
      "execution_count": 2,
      "outputs": []
    },
    {
      "cell_type": "code",
      "source": [
        "drive.mount(\"/content/drive\")"
      ],
      "metadata": {
        "colab": {
          "base_uri": "https://localhost:8080/"
        },
        "id": "Tdtb6NKTJR-z",
        "outputId": "140ae85e-8c88-4188-e9da-d4c649fe95d2"
      },
      "execution_count": 3,
      "outputs": [
        {
          "output_type": "stream",
          "name": "stdout",
          "text": [
            "Drive already mounted at /content/drive; to attempt to forcibly remount, call drive.mount(\"/content/drive\", force_remount=True).\n"
          ]
        }
      ]
    },
    {
      "cell_type": "code",
      "source": [],
      "metadata": {
        "id": "yn2EJkDBJRe8"
      },
      "execution_count": null,
      "outputs": []
    },
    {
      "cell_type": "markdown",
      "source": [
        "# **Import Required Library**"
      ],
      "metadata": {
        "id": "KYsG_7937fMk"
      }
    },
    {
      "cell_type": "code",
      "execution_count": 5,
      "metadata": {
        "id": "qNVZDXu27QTQ"
      },
      "outputs": [],
      "source": [
        "import pandas as pd\n",
        "import numpy as np"
      ]
    },
    {
      "cell_type": "code",
      "source": [
        "#Loading the Dataset\n",
        "df=pd.read_csv('/content/drive/MyDrive/Data/Assignment.csv')"
      ],
      "metadata": {
        "id": "BWdofJsE7vb7"
      },
      "execution_count": 11,
      "outputs": []
    },
    {
      "cell_type": "code",
      "source": [
        "df"
      ],
      "metadata": {
        "colab": {
          "base_uri": "https://localhost:8080/",
          "height": 331
        },
        "id": "Vs2B5faI7vVD",
        "outputId": "433ca110-4010-4582-ffce-078b4633afe0"
      },
      "execution_count": null,
      "outputs": [
        {
          "output_type": "execute_result",
          "data": {
            "text/plain": [
              "   Price\n",
              "0    110\n",
              "1    105\n",
              "2    115\n",
              "3    120\n",
              "4    110\n",
              "5    130\n",
              "6    150\n",
              "7    100\n",
              "8    105"
            ],
            "text/html": [
              "\n",
              "  <div id=\"df-cda582d9-0caa-4f79-befa-e79e052cfcd2\" class=\"colab-df-container\">\n",
              "    <div>\n",
              "<style scoped>\n",
              "    .dataframe tbody tr th:only-of-type {\n",
              "        vertical-align: middle;\n",
              "    }\n",
              "\n",
              "    .dataframe tbody tr th {\n",
              "        vertical-align: top;\n",
              "    }\n",
              "\n",
              "    .dataframe thead th {\n",
              "        text-align: right;\n",
              "    }\n",
              "</style>\n",
              "<table border=\"1\" class=\"dataframe\">\n",
              "  <thead>\n",
              "    <tr style=\"text-align: right;\">\n",
              "      <th></th>\n",
              "      <th>Price</th>\n",
              "    </tr>\n",
              "  </thead>\n",
              "  <tbody>\n",
              "    <tr>\n",
              "      <th>0</th>\n",
              "      <td>110</td>\n",
              "    </tr>\n",
              "    <tr>\n",
              "      <th>1</th>\n",
              "      <td>105</td>\n",
              "    </tr>\n",
              "    <tr>\n",
              "      <th>2</th>\n",
              "      <td>115</td>\n",
              "    </tr>\n",
              "    <tr>\n",
              "      <th>3</th>\n",
              "      <td>120</td>\n",
              "    </tr>\n",
              "    <tr>\n",
              "      <th>4</th>\n",
              "      <td>110</td>\n",
              "    </tr>\n",
              "    <tr>\n",
              "      <th>5</th>\n",
              "      <td>130</td>\n",
              "    </tr>\n",
              "    <tr>\n",
              "      <th>6</th>\n",
              "      <td>150</td>\n",
              "    </tr>\n",
              "    <tr>\n",
              "      <th>7</th>\n",
              "      <td>100</td>\n",
              "    </tr>\n",
              "    <tr>\n",
              "      <th>8</th>\n",
              "      <td>105</td>\n",
              "    </tr>\n",
              "  </tbody>\n",
              "</table>\n",
              "</div>\n",
              "    <div class=\"colab-df-buttons\">\n",
              "\n",
              "  <div class=\"colab-df-container\">\n",
              "    <button class=\"colab-df-convert\" onclick=\"convertToInteractive('df-cda582d9-0caa-4f79-befa-e79e052cfcd2')\"\n",
              "            title=\"Convert this dataframe to an interactive table.\"\n",
              "            style=\"display:none;\">\n",
              "\n",
              "  <svg xmlns=\"http://www.w3.org/2000/svg\" height=\"24px\" viewBox=\"0 -960 960 960\">\n",
              "    <path d=\"M120-120v-720h720v720H120Zm60-500h600v-160H180v160Zm220 220h160v-160H400v160Zm0 220h160v-160H400v160ZM180-400h160v-160H180v160Zm440 0h160v-160H620v160ZM180-180h160v-160H180v160Zm440 0h160v-160H620v160Z\"/>\n",
              "  </svg>\n",
              "    </button>\n",
              "\n",
              "  <style>\n",
              "    .colab-df-container {\n",
              "      display:flex;\n",
              "      gap: 12px;\n",
              "    }\n",
              "\n",
              "    .colab-df-convert {\n",
              "      background-color: #E8F0FE;\n",
              "      border: none;\n",
              "      border-radius: 50%;\n",
              "      cursor: pointer;\n",
              "      display: none;\n",
              "      fill: #1967D2;\n",
              "      height: 32px;\n",
              "      padding: 0 0 0 0;\n",
              "      width: 32px;\n",
              "    }\n",
              "\n",
              "    .colab-df-convert:hover {\n",
              "      background-color: #E2EBFA;\n",
              "      box-shadow: 0px 1px 2px rgba(60, 64, 67, 0.3), 0px 1px 3px 1px rgba(60, 64, 67, 0.15);\n",
              "      fill: #174EA6;\n",
              "    }\n",
              "\n",
              "    .colab-df-buttons div {\n",
              "      margin-bottom: 4px;\n",
              "    }\n",
              "\n",
              "    [theme=dark] .colab-df-convert {\n",
              "      background-color: #3B4455;\n",
              "      fill: #D2E3FC;\n",
              "    }\n",
              "\n",
              "    [theme=dark] .colab-df-convert:hover {\n",
              "      background-color: #434B5C;\n",
              "      box-shadow: 0px 1px 3px 1px rgba(0, 0, 0, 0.15);\n",
              "      filter: drop-shadow(0px 1px 2px rgba(0, 0, 0, 0.3));\n",
              "      fill: #FFFFFF;\n",
              "    }\n",
              "  </style>\n",
              "\n",
              "    <script>\n",
              "      const buttonEl =\n",
              "        document.querySelector('#df-cda582d9-0caa-4f79-befa-e79e052cfcd2 button.colab-df-convert');\n",
              "      buttonEl.style.display =\n",
              "        google.colab.kernel.accessAllowed ? 'block' : 'none';\n",
              "\n",
              "      async function convertToInteractive(key) {\n",
              "        const element = document.querySelector('#df-cda582d9-0caa-4f79-befa-e79e052cfcd2');\n",
              "        const dataTable =\n",
              "          await google.colab.kernel.invokeFunction('convertToInteractive',\n",
              "                                                    [key], {});\n",
              "        if (!dataTable) return;\n",
              "\n",
              "        const docLinkHtml = 'Like what you see? Visit the ' +\n",
              "          '<a target=\"_blank\" href=https://colab.research.google.com/notebooks/data_table.ipynb>data table notebook</a>'\n",
              "          + ' to learn more about interactive tables.';\n",
              "        element.innerHTML = '';\n",
              "        dataTable['output_type'] = 'display_data';\n",
              "        await google.colab.output.renderOutput(dataTable, element);\n",
              "        const docLink = document.createElement('div');\n",
              "        docLink.innerHTML = docLinkHtml;\n",
              "        element.appendChild(docLink);\n",
              "      }\n",
              "    </script>\n",
              "  </div>\n",
              "\n",
              "\n",
              "<div id=\"df-9ea3866e-1449-487b-b892-b5244d7f2c14\">\n",
              "  <button class=\"colab-df-quickchart\" onclick=\"quickchart('df-9ea3866e-1449-487b-b892-b5244d7f2c14')\"\n",
              "            title=\"Suggest charts.\"\n",
              "            style=\"display:none;\">\n",
              "\n",
              "<svg xmlns=\"http://www.w3.org/2000/svg\" height=\"24px\"viewBox=\"0 0 24 24\"\n",
              "     width=\"24px\">\n",
              "    <g>\n",
              "        <path d=\"M19 3H5c-1.1 0-2 .9-2 2v14c0 1.1.9 2 2 2h14c1.1 0 2-.9 2-2V5c0-1.1-.9-2-2-2zM9 17H7v-7h2v7zm4 0h-2V7h2v10zm4 0h-2v-4h2v4z\"/>\n",
              "    </g>\n",
              "</svg>\n",
              "  </button>\n",
              "\n",
              "<style>\n",
              "  .colab-df-quickchart {\n",
              "    background-color: #E8F0FE;\n",
              "    border: none;\n",
              "    border-radius: 50%;\n",
              "    cursor: pointer;\n",
              "    display: none;\n",
              "    fill: #1967D2;\n",
              "    height: 32px;\n",
              "    padding: 0 0 0 0;\n",
              "    width: 32px;\n",
              "  }\n",
              "\n",
              "  .colab-df-quickchart:hover {\n",
              "    background-color: #E2EBFA;\n",
              "    box-shadow: 0px 1px 2px rgba(60, 64, 67, 0.3), 0px 1px 3px 1px rgba(60, 64, 67, 0.15);\n",
              "    fill: #174EA6;\n",
              "  }\n",
              "\n",
              "  [theme=dark] .colab-df-quickchart {\n",
              "    background-color: #3B4455;\n",
              "    fill: #D2E3FC;\n",
              "  }\n",
              "\n",
              "  [theme=dark] .colab-df-quickchart:hover {\n",
              "    background-color: #434B5C;\n",
              "    box-shadow: 0px 1px 3px 1px rgba(0, 0, 0, 0.15);\n",
              "    filter: drop-shadow(0px 1px 2px rgba(0, 0, 0, 0.3));\n",
              "    fill: #FFFFFF;\n",
              "  }\n",
              "</style>\n",
              "\n",
              "  <script>\n",
              "    async function quickchart(key) {\n",
              "      const charts = await google.colab.kernel.invokeFunction(\n",
              "          'suggestCharts', [key], {});\n",
              "    }\n",
              "    (() => {\n",
              "      let quickchartButtonEl =\n",
              "        document.querySelector('#df-9ea3866e-1449-487b-b892-b5244d7f2c14 button');\n",
              "      quickchartButtonEl.style.display =\n",
              "        google.colab.kernel.accessAllowed ? 'block' : 'none';\n",
              "    })();\n",
              "  </script>\n",
              "</div>\n",
              "    </div>\n",
              "  </div>\n"
            ]
          },
          "metadata": {},
          "execution_count": 3
        }
      ]
    },
    {
      "cell_type": "markdown",
      "source": [
        "# **Exploratory Data Analysis**"
      ],
      "metadata": {
        "id": "m322Fz6c8RQD"
      }
    },
    {
      "cell_type": "code",
      "source": [
        "#Statistical Summary\n",
        "df.describe()"
      ],
      "metadata": {
        "colab": {
          "base_uri": "https://localhost:8080/",
          "height": 300
        },
        "id": "edNqOSri7vSO",
        "outputId": "e7708cf9-5f01-4cae-df36-f00cf78085dd"
      },
      "execution_count": 7,
      "outputs": [
        {
          "output_type": "execute_result",
          "data": {
            "text/plain": [
              "            Price\n",
              "count    9.000000\n",
              "mean   116.111111\n",
              "std     15.567951\n",
              "min    100.000000\n",
              "25%    105.000000\n",
              "50%    110.000000\n",
              "75%    120.000000\n",
              "max    150.000000"
            ],
            "text/html": [
              "\n",
              "  <div id=\"df-9e656c4e-a379-4edc-9cf3-4e9c5f8adfab\" class=\"colab-df-container\">\n",
              "    <div>\n",
              "<style scoped>\n",
              "    .dataframe tbody tr th:only-of-type {\n",
              "        vertical-align: middle;\n",
              "    }\n",
              "\n",
              "    .dataframe tbody tr th {\n",
              "        vertical-align: top;\n",
              "    }\n",
              "\n",
              "    .dataframe thead th {\n",
              "        text-align: right;\n",
              "    }\n",
              "</style>\n",
              "<table border=\"1\" class=\"dataframe\">\n",
              "  <thead>\n",
              "    <tr style=\"text-align: right;\">\n",
              "      <th></th>\n",
              "      <th>Price</th>\n",
              "    </tr>\n",
              "  </thead>\n",
              "  <tbody>\n",
              "    <tr>\n",
              "      <th>count</th>\n",
              "      <td>9.000000</td>\n",
              "    </tr>\n",
              "    <tr>\n",
              "      <th>mean</th>\n",
              "      <td>116.111111</td>\n",
              "    </tr>\n",
              "    <tr>\n",
              "      <th>std</th>\n",
              "      <td>15.567951</td>\n",
              "    </tr>\n",
              "    <tr>\n",
              "      <th>min</th>\n",
              "      <td>100.000000</td>\n",
              "    </tr>\n",
              "    <tr>\n",
              "      <th>25%</th>\n",
              "      <td>105.000000</td>\n",
              "    </tr>\n",
              "    <tr>\n",
              "      <th>50%</th>\n",
              "      <td>110.000000</td>\n",
              "    </tr>\n",
              "    <tr>\n",
              "      <th>75%</th>\n",
              "      <td>120.000000</td>\n",
              "    </tr>\n",
              "    <tr>\n",
              "      <th>max</th>\n",
              "      <td>150.000000</td>\n",
              "    </tr>\n",
              "  </tbody>\n",
              "</table>\n",
              "</div>\n",
              "    <div class=\"colab-df-buttons\">\n",
              "\n",
              "  <div class=\"colab-df-container\">\n",
              "    <button class=\"colab-df-convert\" onclick=\"convertToInteractive('df-9e656c4e-a379-4edc-9cf3-4e9c5f8adfab')\"\n",
              "            title=\"Convert this dataframe to an interactive table.\"\n",
              "            style=\"display:none;\">\n",
              "\n",
              "  <svg xmlns=\"http://www.w3.org/2000/svg\" height=\"24px\" viewBox=\"0 -960 960 960\">\n",
              "    <path d=\"M120-120v-720h720v720H120Zm60-500h600v-160H180v160Zm220 220h160v-160H400v160Zm0 220h160v-160H400v160ZM180-400h160v-160H180v160Zm440 0h160v-160H620v160ZM180-180h160v-160H180v160Zm440 0h160v-160H620v160Z\"/>\n",
              "  </svg>\n",
              "    </button>\n",
              "\n",
              "  <style>\n",
              "    .colab-df-container {\n",
              "      display:flex;\n",
              "      gap: 12px;\n",
              "    }\n",
              "\n",
              "    .colab-df-convert {\n",
              "      background-color: #E8F0FE;\n",
              "      border: none;\n",
              "      border-radius: 50%;\n",
              "      cursor: pointer;\n",
              "      display: none;\n",
              "      fill: #1967D2;\n",
              "      height: 32px;\n",
              "      padding: 0 0 0 0;\n",
              "      width: 32px;\n",
              "    }\n",
              "\n",
              "    .colab-df-convert:hover {\n",
              "      background-color: #E2EBFA;\n",
              "      box-shadow: 0px 1px 2px rgba(60, 64, 67, 0.3), 0px 1px 3px 1px rgba(60, 64, 67, 0.15);\n",
              "      fill: #174EA6;\n",
              "    }\n",
              "\n",
              "    .colab-df-buttons div {\n",
              "      margin-bottom: 4px;\n",
              "    }\n",
              "\n",
              "    [theme=dark] .colab-df-convert {\n",
              "      background-color: #3B4455;\n",
              "      fill: #D2E3FC;\n",
              "    }\n",
              "\n",
              "    [theme=dark] .colab-df-convert:hover {\n",
              "      background-color: #434B5C;\n",
              "      box-shadow: 0px 1px 3px 1px rgba(0, 0, 0, 0.15);\n",
              "      filter: drop-shadow(0px 1px 2px rgba(0, 0, 0, 0.3));\n",
              "      fill: #FFFFFF;\n",
              "    }\n",
              "  </style>\n",
              "\n",
              "    <script>\n",
              "      const buttonEl =\n",
              "        document.querySelector('#df-9e656c4e-a379-4edc-9cf3-4e9c5f8adfab button.colab-df-convert');\n",
              "      buttonEl.style.display =\n",
              "        google.colab.kernel.accessAllowed ? 'block' : 'none';\n",
              "\n",
              "      async function convertToInteractive(key) {\n",
              "        const element = document.querySelector('#df-9e656c4e-a379-4edc-9cf3-4e9c5f8adfab');\n",
              "        const dataTable =\n",
              "          await google.colab.kernel.invokeFunction('convertToInteractive',\n",
              "                                                    [key], {});\n",
              "        if (!dataTable) return;\n",
              "\n",
              "        const docLinkHtml = 'Like what you see? Visit the ' +\n",
              "          '<a target=\"_blank\" href=https://colab.research.google.com/notebooks/data_table.ipynb>data table notebook</a>'\n",
              "          + ' to learn more about interactive tables.';\n",
              "        element.innerHTML = '';\n",
              "        dataTable['output_type'] = 'display_data';\n",
              "        await google.colab.output.renderOutput(dataTable, element);\n",
              "        const docLink = document.createElement('div');\n",
              "        docLink.innerHTML = docLinkHtml;\n",
              "        element.appendChild(docLink);\n",
              "      }\n",
              "    </script>\n",
              "  </div>\n",
              "\n",
              "\n",
              "<div id=\"df-62603c11-4c39-4106-8203-2dacb2336b13\">\n",
              "  <button class=\"colab-df-quickchart\" onclick=\"quickchart('df-62603c11-4c39-4106-8203-2dacb2336b13')\"\n",
              "            title=\"Suggest charts.\"\n",
              "            style=\"display:none;\">\n",
              "\n",
              "<svg xmlns=\"http://www.w3.org/2000/svg\" height=\"24px\"viewBox=\"0 0 24 24\"\n",
              "     width=\"24px\">\n",
              "    <g>\n",
              "        <path d=\"M19 3H5c-1.1 0-2 .9-2 2v14c0 1.1.9 2 2 2h14c1.1 0 2-.9 2-2V5c0-1.1-.9-2-2-2zM9 17H7v-7h2v7zm4 0h-2V7h2v10zm4 0h-2v-4h2v4z\"/>\n",
              "    </g>\n",
              "</svg>\n",
              "  </button>\n",
              "\n",
              "<style>\n",
              "  .colab-df-quickchart {\n",
              "    background-color: #E8F0FE;\n",
              "    border: none;\n",
              "    border-radius: 50%;\n",
              "    cursor: pointer;\n",
              "    display: none;\n",
              "    fill: #1967D2;\n",
              "    height: 32px;\n",
              "    padding: 0 0 0 0;\n",
              "    width: 32px;\n",
              "  }\n",
              "\n",
              "  .colab-df-quickchart:hover {\n",
              "    background-color: #E2EBFA;\n",
              "    box-shadow: 0px 1px 2px rgba(60, 64, 67, 0.3), 0px 1px 3px 1px rgba(60, 64, 67, 0.15);\n",
              "    fill: #174EA6;\n",
              "  }\n",
              "\n",
              "  [theme=dark] .colab-df-quickchart {\n",
              "    background-color: #3B4455;\n",
              "    fill: #D2E3FC;\n",
              "  }\n",
              "\n",
              "  [theme=dark] .colab-df-quickchart:hover {\n",
              "    background-color: #434B5C;\n",
              "    box-shadow: 0px 1px 3px 1px rgba(0, 0, 0, 0.15);\n",
              "    filter: drop-shadow(0px 1px 2px rgba(0, 0, 0, 0.3));\n",
              "    fill: #FFFFFF;\n",
              "  }\n",
              "</style>\n",
              "\n",
              "  <script>\n",
              "    async function quickchart(key) {\n",
              "      const charts = await google.colab.kernel.invokeFunction(\n",
              "          'suggestCharts', [key], {});\n",
              "    }\n",
              "    (() => {\n",
              "      let quickchartButtonEl =\n",
              "        document.querySelector('#df-62603c11-4c39-4106-8203-2dacb2336b13 button');\n",
              "      quickchartButtonEl.style.display =\n",
              "        google.colab.kernel.accessAllowed ? 'block' : 'none';\n",
              "    })();\n",
              "  </script>\n",
              "</div>\n",
              "    </div>\n",
              "  </div>\n"
            ]
          },
          "metadata": {},
          "execution_count": 7
        }
      ]
    },
    {
      "cell_type": "markdown",
      "source": [
        "# **Normalization**\n",
        "Normalization is a scaling technique in Machine Learning applied during data preparation to change the values of numeric columns in the dataset to use a common scale. It is not necessary for all datasets in a model. It is required only when features of machine learning models have different ranges\n",
        "\n",
        "![min-max-normalisation.jpg](data:image/jpeg;base64,/9j/4AAQSkZJRgABAQEAYABgAAD/4RDaRXhpZgAATU0AKgAAAAgABAE7AAIAAAAFAAAISodpAAQAAAABAAAIUJydAAEAAAAKAAAQyOocAAcAAAgMAAAAPgAAAAAc6gAAAAgAAAAAAAAAAAAAAAAAAAAAAAAAAAAAAAAAAAAAAAAAAAAAAAAAAAAAAAAAAAAAAAAAAAAAAAAAAAAAAAAAAAAAAAAAAAAAAAAAAAAAAAAAAAAAAAAAAAAAAAAAAAAAAAAAAAAAAAAAAAAAAAAAAAAAAAAAAAAAAAAAAAAAAAAAAAAAAAAAAAAAAAAAAAAAAAAAAAAAAAAAAAAAAAAAAAAAAAAAAAAAAAAAAAAAAAAAAAAAAAAAAAAAAAAAAAAAAAAAAAAAAAAAAAAAAAAAAAAAAAAAAAAAAAAAAAAAAAAAAAAAAAAAAAAAAAAAAAAAAAAAAAAAAAAAAAAAAAAAAAAAAAAAAAAAAAAAAAAAAAAAAAAAAAAAAAAAAAAAAAAAAAAAAAAAAAAAAAAAAAAAAAAAAAAAAAAAAAAAAAAAAAAAAAAAAAAAAAAAAAAAAAAAAAAAAAAAAAAAAAAAAAAAAAAAAAAAAAAAAAAAAAAAAAAAAAAAAAAAAAAAAAAAAAAAAAAAAAAAAAAAAAAAAAAAAAAAAAAAAAAAAAAAAAAAAAAAAAAAAAAAAAAAAAAAAAAAAAAAAAAAAAAAAAAAAAAAAAAAAAAAAAAAAAAAAAAAAAAAAAAAAAAAAAAAAAAAAAAAAAAAAAAAAAAAAAAAAAAAAAAAAAAAAAAAAAAAAAAAAAAAAAAAAAAAAAAAAAAAAAAAAAAAAAAAAAAAAAAAAAAAAAAAAAAAAAAAAAAAAAAAAAAAAAAAAAAAAAAAAAAAAAAAAAAAAAAAAAAAAAAAAAAAAAAAAAAAAAAAAAAAAAAAAAAAAAAAAAAAAAAAAAAAAAAAAAAAAAAAAAAAAAAAAAAAAAAAAAAAAAAAAAAAAAAAAAAAAAAAAAAAAAAAAAAAAAAAAAAAAAAAAAAAAAAAAAAAAAAAAAAAAAAAAAAAAAAAAAAAAAAAAAAAAAAAAAAAAAAAAAAAAAAAAAAAAAAAAAAAAAAAAAAAAAAAAAAAAAAAAAAAAAAAAAAAAAAAAAAAAAAAAAAAAAAAAAAAAAAAAAAAAAAAAAAAAAAAAAAAAAAAAAAAAAAAAAAAAAAAAAAAAAAAAAAAAAAAAAAAAAAAAAAAAAAAAAAAAAAAAAAAAAAAAAAAAAAAAAAAAAAAAAAAAAAAAAAAAAAAAAAAAAAAAAAAAAAAAAAAAAAAAAAAAAAAAAAAAAAAAAAAAAAAAAAAAAAAAAAAAAAAAAAAAAAAAAAAAAAAAAAAAAAAAAAAAAAAAAAAAAAAAAAAAAAAAAAAAAAAAAAAAAAAAAAAAAAAAAAAAAAAAAAAAAAAAAAAAAAAAAAAAAAAAAAAAAAAAAAAAAAAAAAAAAAAAAAAAAAAAAAAAAAAAAAAAAAAAAAAAAAAAAAAAAAAAAAAAAAAAAAAAAAAAAAAAAAAAAAAAAAAAAAAAAAAAAAAAAAAAAAAAAAAAAAAAAAAAAAAAAAAAAAAAAAAAAAAAAAAAAAAAAAAAAAAAAAAAAAAAAAAAAAAAAAAAAAAAAAAAAAAAAAAAAAAAAAAAAAAAAAAAAAAAAAAAAAAAAAAAAAAAAAAAAAAAAAAAAAAAAAAAAAAAAAAAAAAAAAAAAAAAAAAAAAAAAAAAAAAAAAAAAAAAAAAAAAAAAAAAAAAAAAAAAAAAAAAAAAAAAAAAAAAAAAAAAAAAAAAAAAAAAAAAAAAAAAAAAAAAAAAAAAAAAAAAAAAAAAAAAAAAAAAAAAAAAAAAAAAAAAAAAAAAAAAAAAAAAAAAAAAAAAAAAAAAAAAAAAAAAAAAAAAAAAAAAAAAAAAAAAAAAAAAAAAAAAAAAAAAAAAAAAAAAAAAAAAAAAAAAAAAAAAAAAAAAAAAAAAAAAAAAAAAAAAAAAAAAAAAAAAAAAAAAAAAAAAAAAAAAAAAAAAAAAAAAAAAAAAAAAAAAAAAAAAAAAAAAAAAAAAAAAAAAAAAAAAAAAAAAAAAAAAAAAAAAAAAAAAAAAAAAAAAAAAAAAAAAAAAAAAAAAAAAAAAAAAAAAAAAAAAAAAAAAAAAAAAAAAAAAAAAAAAAAAAAAAAAAAAAAAAAAAAAAAAAAAAAAAAAAAAAAAAAAAAAAAAAAAAAAAAAAAAAAAAAAAAAAAAAAAAAAAAAAAAAAAAAAAAAAAAAAAAAAAAAAAAAAAAAAAAAAAAAAAAAAAAAAAAAAAAAAAAAAAAAAAAAAAAAAAAAAAAAAAAAAAAAAAAAAAAAAAAAAAAAAAAAAAAAAAAAAAAAAAAAAAAAAAAAAAAAAAAAAAAAAAAAAAAAAAAAAAAAAAAAAAAAAAAAAAAAAAAAAAAAAAAAAAAAAAAAAAAAAAAAAAAAAAAAAAAAAAAAAAAAAAAAAAAAAAAAAAAAAAAAAAAAAAAAAAAAAAAAAAAAAAAAAAAAAAAAAAAAAAAAAAAAAAAAAAAAAAAAAAAAAAAAAAAAAAAAAAAAAAAAAAAAAAAAAAAAAAAAAAAAAAAAAAAAAAAAAAAAAAAAAAAAAAAAAAAAAAAAAAAAAAAAAAAAAAAAAAAAAAAAAAAAAAAAAAAAAAAAAAAAAAAAAAAAAAAAAAAAAAAAAAAAAAAAAAAAAAAAAAAAAAAAAAAAAAAAAAAAAAAAAAAAAAAAAAAAAAAAAAAAAAAAAAAAAAAAAAAAAAAAAAAAAAAAAAAAAAAAAAAAAAAAAAAAAAAAAAAAAAAAAAAAAAAAAAAAAAAAAAAAAAAAAAAAAAAAAAAAAAAAAAAAAAAGRlbGwAAAAFkAMAAgAAABQAABCekAQAAgAAABQAABCykpEAAgAAAAM0OQAAkpIAAgAAAAM0OQAA6hwABwAACAwAAAiSAAAAABzqAAAACAAAAAAAAAAAAAAAAAAAAAAAAAAAAAAAAAAAAAAAAAAAAAAAAAAAAAAAAAAAAAAAAAAAAAAAAAAAAAAAAAAAAAAAAAAAAAAAAAAAAAAAAAAAAAAAAAAAAAAAAAAAAAAAAAAAAAAAAAAAAAAAAAAAAAAAAAAAAAAAAAAAAAAAAAAAAAAAAAAAAAAAAAAAAAAAAAAAAAAAAAAAAAAAAAAAAAAAAAAAAAAAAAAAAAAAAAAAAAAAAAAAAAAAAAAAAAAAAAAAAAAAAAAAAAAAAAAAAAAAAAAAAAAAAAAAAAAAAAAAAAAAAAAAAAAAAAAAAAAAAAAAAAAAAAAAAAAAAAAAAAAAAAAAAAAAAAAAAAAAAAAAAAAAAAAAAAAAAAAAAAAAAAAAAAAAAAAAAAAAAAAAAAAAAAAAAAAAAAAAAAAAAAAAAAAAAAAAAAAAAAAAAAAAAAAAAAAAAAAAAAAAAAAAAAAAAAAAAAAAAAAAAAAAAAAAAAAAAAAAAAAAAAAAAAAAAAAAAAAAAAAAAAAAAAAAAAAAAAAAAAAAAAAAAAAAAAAAAAAAAAAAAAAAAAAAAAAAAAAAAAAAAAAAAAAAAAAAAAAAAAAAAAAAAAAAAAAAAAAAAAAAAAAAAAAAAAAAAAAAAAAAAAAAAAAAAAAAAAAAAAAAAAAAAAAAAAAAAAAAAAAAAAAAAAAAAAAAAAAAAAAAAAAAAAAAAAAAAAAAAAAAAAAAAAAAAAAAAAAAAAAAAAAAAAAAAAAAAAAAAAAAAAAAAAAAAAAAAAAAAAAAAAAAAAAAAAAAAAAAAAAAAAAAAAAAAAAAAAAAAAAAAAAAAAAAAAAAAAAAAAAAAAAAAAAAAAAAAAAAAAAAAAAAAAAAAAAAAAAAAAAAAAAAAAAAAAAAAAAAAAAAAAAAAAAAAAAAAAAAAAAAAAAAAAAAAAAAAAAAAAAAAAAAAAAAAAAAAAAAAAAAAAAAAAAAAAAAAAAAAAAAAAAAAAAAAAAAAAAAAAAAAAAAAAAAAAAAAAAAAAAAAAAAAAAAAAAAAAAAAAAAAAAAAAAAAAAAAAAAAAAAAAAAAAAAAAAAAAAAAAAAAAAAAAAAAAAAAAAAAAAAAAAAAAAAAAAAAAAAAAAAAAAAAAAAAAAAAAAAAAAAAAAAAAAAAAAAAAAAAAAAAAAAAAAAAAAAAAAAAAAAAAAAAAAAAAAAAAAAAAAAAAAAAAAAAAAAAAAAAAAAAAAAAAAAAAAAAAAAAAAAAAAAAAAAAAAAAAAAAAAAAAAAAAAAAAAAAAAAAAAAAAAAAAAAAAAAAAAAAAAAAAAAAAAAAAAAAAAAAAAAAAAAAAAAAAAAAAAAAAAAAAAAAAAAAAAAAAAAAAAAAAAAAAAAAAAAAAAAAAAAAAAAAAAAAAAAAAAAAAAAAAAAAAAAAAAAAAAAAAAAAAAAAAAAAAAAAAAAAAAAAAAAAAAAAAAAAAAAAAAAAAAAAAAAAAAAAAAAAAAAAAAAAAAAAAAAAAAAAAAAAAAAAAAAAAAAAAAAAAAAAAAAAAAAAAAAAAAAAAAAAAAAAAAAAAAAAAAAAAAAAAAAAAAAAAAAAAAAAAAAAAAAAAAAAAAAAAAAAAAAAAAAAAAAAAAAAAAAAAAAAAAAAAAAAAAAAAAAAAAAAAAAAAAAAAAAAAAAAAAAAAAAAAAAAAAAAAAAAAAAAAAAAAAAAAAAAAAAAAAAAAAAAAAAAAAAAAAAAAAAAAAAAAAAAAAAAAAAAAAAAAAAAAAAAAAAAAAAAAAAAAAAAAAAAAAAAAAAAAAAAAAAAAAAAAAAAAAAAAAAAAAAAAAAAAAAAAAAAAAAAAAAAAAAAAAAAAAAAAAAAAAAAAAAAAAAAAAAAAAAAAAAAAAAAAAAAAAAAAAAAAAAAAAAAAAAAAAAAAAAAAAAAAAAAAAAAAAAAAAAAAAAAAAAAAAAAAAAAAAAAAAAAAAAAAAAAAAAAAAAAAAAAAAAAAAAAAAAAAAAAAAAAAAAAAAAAAAAAAAAAAAAAAAAAAAAAAAAAAAAAAAAAAAAAAAAAAAAAAAAAAAAAAAAAAAAAAAAAAAAAAAAAAAAAAAAAAAAAAAAAAAAAAAAAAAAAAAAAAAAAAAAAAAAAAAAAAAAAAAAAAAAAAAAAAAAAAAAAAAAAAAAAAAAAAAAAAAAAAAAAAAAAAAAAAAAAAAAAAAAAAAAAAAAAAAAAAAAAAAAAAAAAAAAAAAAAAAAAAAAAAAAAAAAAAAAAAAAAAAAAAAAAAAAAAAAAAAAAAAAAAAAAAAAAAAAAAAAAAAAAAAAAAAAAAAAAAAAAAAAAAAAAAAAAAAAAAAAAAAAAAAAAAAAAAAAAAAAAAAAAAAAAAAAAAAAAAAAAAAAAAAAAAAAAAAAAAAAAAAAAAAAAAAAAAAAAAAAAAAAAAAAAAAAAAAAAAAAAAAAAAAAAAAAAAAAAAAAAAAAAAAAAAAAAAAAAAAAAAAAAAAAAAAAAAAAAAAAAAAAAAAAAAAAAAAAAAAAAAAAAAAAAAAAAAAAAAAAAAAAAAAAAAAAAAAAAAAAAAAAAAAAAAAAAAAAAAAAAAAAAAAAAAAAAAAAAAAAAAAAAAAAAAAAAAAAAAAAAAAAAAAAAAAAAAAAAAAAAAAAAAAAAAAAAAAAAAAAAAAAAAAAAAAAAAAAAAAAAAAAAAAAAAAAAAAAAAAAAAAAAAAAAAAAAAAAAAAAAAAAAAAAAAAAAAAAAAAAAAAAAAAAAAAAAAAAAAAAMjAxODowNjozMCAxNDoyMzoyNAAyMDE4OjA2OjMwIDE0OjIzOjI0AAAAZABlAGwAbAAAAP/hCxdodHRwOi8vbnMuYWRvYmUuY29tL3hhcC8xLjAvADw/eHBhY2tldCBiZWdpbj0n77u/JyBpZD0nVzVNME1wQ2VoaUh6cmVTek5UY3prYzlkJz8+DQo8eDp4bXBtZXRhIHhtbG5zOng9ImFkb2JlOm5zOm1ldGEvIj48cmRmOlJERiB4bWxuczpyZGY9Imh0dHA6Ly93d3cudzMub3JnLzE5OTkvMDIvMjItcmRmLXN5bnRheC1ucyMiPjxyZGY6RGVzY3JpcHRpb24gcmRmOmFib3V0PSJ1dWlkOmZhZjViZGQ1LWJhM2QtMTFkYS1hZDMxLWQzM2Q3NTE4MmYxYiIgeG1sbnM6ZGM9Imh0dHA6Ly9wdXJsLm9yZy9kYy9lbGVtZW50cy8xLjEvIi8+PHJkZjpEZXNjcmlwdGlvbiByZGY6YWJvdXQ9InV1aWQ6ZmFmNWJkZDUtYmEzZC0xMWRhLWFkMzEtZDMzZDc1MTgyZjFiIiB4bWxuczp4bXA9Imh0dHA6Ly9ucy5hZG9iZS5jb20veGFwLzEuMC8iPjx4bXA6Q3JlYXRlRGF0ZT4yMDE4LTA2LTMwVDE0OjIzOjI0LjQ5NDwveG1wOkNyZWF0ZURhdGU+PC9yZGY6RGVzY3JpcHRpb24+PHJkZjpEZXNjcmlwdGlvbiByZGY6YWJvdXQ9InV1aWQ6ZmFmNWJkZDUtYmEzZC0xMWRhLWFkMzEtZDMzZDc1MTgyZjFiIiB4bWxuczpkYz0iaHR0cDovL3B1cmwub3JnL2RjL2VsZW1lbnRzLzEuMS8iPjxkYzpjcmVhdG9yPjxyZGY6U2VxIHhtbG5zOnJkZj0iaHR0cDovL3d3dy53My5vcmcvMTk5OS8wMi8yMi1yZGYtc3ludGF4LW5zIyI+PHJkZjpsaT5kZWxsPC9yZGY6bGk+PC9yZGY6U2VxPg0KCQkJPC9kYzpjcmVhdG9yPjwvcmRmOkRlc2NyaXB0aW9uPjwvcmRmOlJERj48L3g6eG1wbWV0YT4NCiAgICAgICAgICAgICAgICAgICAgICAgICAgICAgICAgICAgICAgICAgICAgICAgICAgICAgICAgICAgICAgICAgICAgICAgICAgICAgICAgICAgICAgICAgICAgICAgICAgICAKICAgICAgICAgICAgICAgICAgICAgICAgICAgICAgICAgICAgICAgICAgICAgICAgICAgICAgICAgICAgICAgICAgICAgICAgICAgICAgICAgICAgICAgICAgICAgICAgICAgIAogICAgICAgICAgICAgICAgICAgICAgICAgICAgICAgICAgICAgICAgICAgICAgICAgICAgICAgICAgICAgICAgICAgICAgICAgICAgICAgICAgICAgICAgICAgICAgICAgICAgCiAgICAgICAgICAgICAgICAgICAgICAgICAgICAgICAgICAgICAgICAgICAgICAgICAgICAgICAgICAgICAgICAgICAgICAgICAgICAgICAgICAgICAgICAgICAgICAgICAgICAKICAgICAgICAgICAgICAgICAgICAgICAgICAgICAgICAgICAgICAgICAgICAgICAgICAgICAgICAgICAgICAgICAgICAgICAgICAgICAgICAgICAgICAgICAgICAgICAgICAgIAogICAgICAgICAgICAgICAgICAgICAgICAgICAgICAgICAgICAgICAgICAgICAgICAgICAgICAgICAgICAgICAgICAgICAgICAgICAgICAgICAgICAgICAgICAgICAgICAgICAgCiAgICAgICAgICAgICAgICAgICAgICAgICAgICAgICAgICAgICAgICAgICAgICAgICAgICAgICAgICAgICAgICAgICAgICAgICAgICAgICAgICAgICAgICAgICAgICAgICAgICAKICAgICAgICAgICAgICAgICAgICAgICAgICAgICAgICAgICAgICAgICAgICAgICAgICAgICAgICAgICAgICAgICAgICAgICAgICAgICAgICAgICAgICAgICAgICAgICAgICAgIAogICAgICAgICAgICAgICAgICAgICAgICAgICAgICAgICAgICAgICAgICAgICAgICAgICAgICAgICAgICAgICAgICAgICAgICAgICAgICAgICAgICAgICAgICAgICAgICAgICAgCiAgICAgICAgICAgICAgICAgICAgICAgICAgICAgICAgICAgICAgICAgICAgICAgICAgICAgICAgICAgICAgICAgICAgICAgICAgICAgICAgICAgICAgICAgICAgICAgICAgICAKICAgICAgICAgICAgICAgICAgICAgICAgICAgICAgICAgICAgICAgICAgICAgICAgICAgICAgICAgICAgICAgICAgICAgICAgICAgICAgICAgICAgICAgICAgICAgICAgICAgIAogICAgICAgICAgICAgICAgICAgICAgICAgICAgICAgICAgICAgICAgICAgICAgICAgICAgICAgICAgICAgICAgICAgICAgICAgICAgICAgICAgICAgICAgICAgICAgICAgICAgCiAgICAgICAgICAgICAgICAgICAgICAgICAgICAgICAgICAgICAgICAgICAgICAgICAgICAgICAgICAgICAgICAgICAgICAgICAgICAgICAgICAgICAgICAgICAgICAgICAgICAKICAgICAgICAgICAgICAgICAgICAgICAgICAgICAgICAgICAgICAgICAgICAgICAgICAgICAgICAgICAgICAgICAgICAgICAgICAgICAgICAgICAgICAgICAgICAgICAgICAgIAogICAgICAgICAgICAgICAgICAgICAgICAgICAgICAgICAgICAgICAgICAgICAgICAgICAgICAgICAgICAgICAgICAgICAgICAgICAgICAgICAgICAgICAgICAgICAgICAgICAgCiAgICAgICAgICAgICAgICAgICAgICAgICAgICAgICAgICAgICAgICAgICAgICAgICAgICAgICAgICAgICAgICAgICAgICAgICAgICAgICAgICAgICAgICAgICAgICAgICAgICAKICAgICAgICAgICAgICAgICAgICAgICAgICAgICAgICAgICAgICAgICAgICAgICAgICAgICAgICAgICAgICAgICAgICAgICAgICAgICAgICAgICAgICAgICAgICAgICAgICAgIAogICAgICAgICAgICAgICAgICAgICAgICAgICAgICAgICAgICAgICAgICAgICAgICAgICAgICAgICAgICAgICAgICAgICAgICAgICAgICAgICAgICAgICAgICAgICAgICAgICAgCiAgICAgICAgICAgICAgICAgICAgICAgICAgICAgICAgICAgICAgICAgICAgICAgICAgICAgICAgICAgICAgICAgICAgICAgICAgICAgICAgICAgICAgICAgICAgICAgICAgICAKICAgICAgICAgICAgICAgICAgICAgICAgICAgICAgICAgICAgICAgICAgICAgICAgICAgICAgICAgICAgICAgICAgICAgICAgICAgICAgICAgICAgICAgICAgICAgICAgICAgIAogICAgICAgICAgICAgICAgICAgICAgICAgICAgPD94cGFja2V0IGVuZD0ndyc/Pv/bAEMABwUFBgUEBwYFBggHBwgKEQsKCQkKFQ8QDBEYFRoZGBUYFxseJyEbHSUdFxgiLiIlKCkrLCsaIC8zLyoyJyorKv/bAEMBBwgICgkKFAsLFCocGBwqKioqKioqKioqKioqKioqKioqKioqKioqKioqKioqKioqKioqKioqKioqKioqKioqKv/AABEIAJ0CCQMBIgACEQEDEQH/xAAfAAABBQEBAQEBAQAAAAAAAAAAAQIDBAUGBwgJCgv/xAC1EAACAQMDAgQDBQUEBAAAAX0BAgMABBEFEiExQQYTUWEHInEUMoGRoQgjQrHBFVLR8CQzYnKCCQoWFxgZGiUmJygpKjQ1Njc4OTpDREVGR0hJSlNUVVZXWFlaY2RlZmdoaWpzdHV2d3h5eoOEhYaHiImKkpOUlZaXmJmaoqOkpaanqKmqsrO0tba3uLm6wsPExcbHyMnK0tPU1dbX2Nna4eLj5OXm5+jp6vHy8/T19vf4+fr/xAAfAQADAQEBAQEBAQEBAAAAAAAAAQIDBAUGBwgJCgv/xAC1EQACAQIEBAMEBwUEBAABAncAAQIDEQQFITEGEkFRB2FxEyIygQgUQpGhscEJIzNS8BVictEKFiQ04SXxFxgZGiYnKCkqNTY3ODk6Q0RFRkdISUpTVFVWV1hZWmNkZWZnaGlqc3R1dnd4eXqCg4SFhoeIiYqSk5SVlpeYmZqio6Slpqeoqaqys7S1tre4ubrCw8TFxsfIycrS09TV1tfY2dri4+Tl5ufo6ery8/T19vf4+fr/2gAMAwEAAhEDEQA/APpGiiigAooooAKKKKACiiigAooooAKKKKACiiigAooooAKKKKACiiigAooooAKKKKACiiigAooooAKKKKACiiigAooooAKKKKACiiigAooooAKKKKACiiigAooooAKKKKACiiigAooooAKKKKACiiigAooooAKKKKACiiigAooooAKKKKACiiigAooooAKKKKACiiigAooooAKKKKACiiigAooooAKKKKACiiigAooooAKKKKACvMfiz8Xrr4XXmnqfDD6paXsbFbr7Z5Kq6nlMeW3OMHt19jXp1cv8RfBNp4/8E3uiXW1ZXXzLWZhnyZh91vp2PsTQBa8FeLtP8c+E7PXtKysVwuHiY5aFxwyH3B/MYPet6vkn4CeNbrwD8Qrnwh4i3Wtrfzm3kjk/5d7tTtUn0B+6f+AnoK94+MfxBT4feAp7uB1/tS8zb2CE87yOX+ijn64HegDmPFP7QsGjfEM+E/D/AIck164SdbVpY7wRbpicFFGxs4JwSSOQfTNeyjpz1r5r/Zm+Hr3NzP481qNnO54tO83ksxyJJufxUH1Le1fSlABRRRQAUUUUAFFFFABRRRQAUVy3h34leEfFmsXel+H9ZS7vLNGknj8mRNqqwUtllAIBI5BPWuT8RftGeA/D2pPZLPe6rJG22R9OhV41P+8zKG/4DmgD1WiuW8E/Ejwz8QLaSTw5f+bLCAZrWVdksYPcqeo9xke9UPHHxe8I+AJvs2tXrzXxXd9is08yUD35AX/gRGaAO4orzXwh8e/BHjHVI9Ntrm5068mO2GLUYlj81uwDKzLk9gSCe1elUAeHfGb44658O/GVtouiabp86NapcSy3iuxbczDChWXH3epz1r1/w5qp17wtpWrtD5B1CyhujFnPl70Dbc98ZxXK+P8AxL8NdE1Kyh+IS6a928e+2+2acbllXOMghG2jOfSu4t5IpraKW2KtC6BoyvQqRxj8KAJKK5e6+JPhKy8ap4SudXWPXHdEW0MMh+Z1DKN4XaCQR37isrxt8Z/B3gO7ay1W9kub9Rl7OyjEkif72SFU+xINAHe0V5p4S+PngfxdqUWn291c6deTttii1CIR+Y2cABlZlyewJ5r0ugCpq2p22i6NeapfvstrOB55W9FVST+gr5r+BFre/EH4zaz471dnxZ7nQbjgSS5VEHqqoGGP92u9/aZ8RNo/wtGmwvtl1e6SA4PPlr87fqqj/gVXf2ctAXRvg/Z3TJtn1SaS7kJ64zsT8NqA/jQBvfFP4hXXw28OQaxDoL6xA04hn23PkiDI+VidjcE8dOuPWnfDD4l2HxN8OS6haW5srq2l8q6s2l8wxE8qd2BlSOhwOQR2rptd0Wy8R6De6PqsQmtLyJopVPoe49CDyD2IFfIXhXVNQ+A/xsmsdWZzYCT7NeEKcTW7HKTKPUcN/wB9L60AfZleT/FL472Hw416DRrfSW1i+aMSzoLnyRAD90E7GyT1xxxj1ruPF/jDTvCPgm88R3ciS28MO+FVb/Xu33FU/wC0SOfTnoK+a/gn4Svfif8AE688ZeJh9otLO5+0zFwds1wTlIxn+FeDjsAo6GgD6i0yeTXfDFtPqdg9jJfWqtPZu+5ot68oWAHIzjtXzX8JNSufhd8etT8D6jOxsb6c2yljwZPvQSexZSB/wMelfU1fLP7UGly6L8QdC8TWBMMtzBgSKOksDghvrh0/75oA+pqKzfDusR+IfDOmaxAAI7+1juAB/DuUHH4ZxWlQAUUUUAFFFFABRRRQAUUUUAFFFFABRRRQAUUUUAFFFFABRRRQAUUUUAFFFFABRRRQAUUUUAFFFFABRRRQAUUUUAfNX7Tnw78maLx1pMW0MVh1IIMYbpHL+PCn/gPqa87tbzxL8ePH2haRqU5b7PbpA8q9IolAMsx7b2/U7R6V3f7R/jy41/xFa+APDxaZYZk+1rFyZ7huEi99uRx/ePqtcRr3hvX/AIB/EHRNSjmFw3lJOki/KkpwBNCfbkjPoynrQB9laVpdpoukWumabCsFpaRLDDGv8KqMD/8AXVus3w7r9j4o8O2WtaVJ5lpexCRD3X1U+hByCPUGuW+L/hy08T+CUstR8Vx+FoEu0lN7K4VHIVgI2y6Ag7s4z1UUAd3RVHRLMaf4f06yW7e+W2tYohdSNuafagG8nuTjOfeuN+MHgvxF448L2dh4T1WLTbmG8E0jyzyRK6bGGMoCepHGMUAegUV8u/8ADPXxV/6G+w/8Gd1/8bo/4Z6+Kv8A0N9h/wCDO6/+N0AfUVFfLv8Awz18Vf8Aob7D/wAGd1/8brv/AIP/AAu8a+B/FF5qHivxBBqFpNZmBLeG7mm/eF0YMQ6qBgKw9fmoA9jooooA+EfB2k+IPEXj6/8AD/he4NtNqwltbqXJAW38wO+4jnHyDIHXp3r6h0b9n3wBpegjT7zSBqUzJia8uJGEjt3K7SNnsB+vWvD/ANnr/kvU3/XC6/nX17QB8ReILXV/gr8ZLy38M3MglgyLOSRd3mRSpwGHRiM49Ny5xXuPw9+AGmQ2Z1n4jxHWtevj500c8rMkBbkg4PzvzyTkZ6dMny79oX/kvUP/AFwtf519e0AfJH7Qfwt0vwLdabrfheFrSxvXaKW3DkiGUDcCpPIBGeM8bePb6L+FviCbxT8LtB1e7kMtxNahJpD1eRCY2Y+5ZSa81/au/wCSf6P/ANhQf+inrrf2fP8AkhPh7/t5/wDSmWgDxz9q/wD5HzRf+wb/AO1Xr6b8Pf8AIs6X/wBecX/oAr5k/av/AOR80X/sG/8AtV6+m/D3/Is6X/15xf8AoAoA+RvjJc6jZ/tL6lPoZYaks9p9lKAFvNNvEFxnvkivZvAf7POgaVp4vPG8I17W7nMlw00jNFGx5IAz8xyeWbOT0xXknxN/5O2/7imm/wDouCvr+gD5N/aE+FGk+CRp+veF4GtLG7mNvPbhyyxy4LKVJyQCA3HbbxXv/wAIvEc/iv4UaHqt7IZLpoDDO7Hl3jYxlj7nbn8a4X9qv/klmm/9hqL/ANET1ufs5/8AJEdK/wCu1x/6OagDy79rLUjJ4m8P6Xu4t7OS42/9dH25/wDIVfQvgawXS/h94fsVGPI023Q89SI1yfzzXzN+1X/yVPTf+wLF/wCj56+qdGaNtBsGhG2M20ZQeg2jFAF2vF/2jvh1/wAJN4THiTTId2qaOhaUKPmmturD/gPLD23ete0V4T+0t8RjougJ4R0qbF7qibrxlPMdv02+xcjH+6D6igDwVvFPifx3ofhvwHGxuI7ObyrSMHmQscJuPogJAPZSa+z/AAL4Qs/Avg2x0Kwwwt0zNLjBmlPLufqenoMDtXx94k+G3iH4eeGPDXi8ySRSXZEp2rhrKYHfED7lRnpwVIr61+Gfjm2+IPge01mHalzjybyEH/VTKPmH0PDD2IoA62vDP2rLES/DzSb0LlrfUxHnHRXjfP6ov6V7nXjn7UH/ACSKP/sJQ/8AoL0Aa37PWoPf/BPSBKxZrZ5oMn0ErED8AQPwr02vHv2YVZfhCSwIDajMVz3GEH8wa9hoAKKKKACiiigAooooAKKKKAPkrxN4p8c/B/4yBNS1/V9V0pZvPihu7t5I7m1c8jaxIDDlc4GGXPSvqvS9TtNZ0m11LTplmtbuJZoZF/iVhkV578dPh3/wnngV5LCHfrGl7p7TA+aQY+eL/gQGR7qtecfszfEhII7jwXrVwsaRh7nT5JWChQPmkjz+bj/gftQB6n8ZfiCvw+8Bz3NrIBqt7m3sFxnDkcyY9FHPpnaO9cV+zfb+LdWs77xT4o1/Vb2yuAbeyt7y7eVHIbLygMTjBG0Y/wBr2rzHxFfX3x++OUOn6Y7rpUTGGBwDiG1Q5eYg926/ii9q+uNK0u00XSLXTNNhWC0tIlhhjX+FVGB/+ugC3RRRQAUUUUAFFFFABRRRQAUUUUAFFFFABRRRQAUUUUAFFFFABXFfFfx9D8PPAtzqYKNqE37ixibnfKR1I9FGWP0x3FdrXlPxT+Ctx8TvEFpfT+KXsLS0h8qOzFl5oUk5Zg3mLyeB0/hFAHm37NngWbXPEF34810NMsErLaPLyZbhuXkOeuAcZ9WPpXs/xc8BR/EHwDdafGq/2jb/AOkWDnjEoH3c+jDK/iD2rpvDug2Xhfw5Y6Lpcey1soREg7n1Y+5OSfcmtKgD5b/Zr+IEmia/ceB9bdoobyQtZiXjybgcNHg9N2On95fVq9B/ag/5JFH/ANhKH/0F6h8a/s62vibxxL4l0XxC+hTzSLO8cdn5mJhz5isHXaSRn65NP/aZR4/g1bpNJ5si6hAHk2hd52Pk4HTNAHqvh7/kWdL/AOvOL/0AVo1neHv+RZ0v/rzi/wDQBWjQAUUUUAFFFFABRRRQB8hfs9f8l6m/64XX86+va8k+H3wIi8B+PpvEq+IHvt6SolsbMR7d57tvOcfQV63QB8hftC/8l6h/64Wv86+va8k+IPwIi8eePofEreIHsdiRI9sLMSbth7NvGM/Q163QB4T+1d/yT/R/+woP/RT11v7Pn/JCfD3/AG8/+lMtaHxW+Gq/E/w7a6W2qNpjW10LhZRB5wPysuCu5f73XNa3gDwivgTwLp3hxLw3oshJ/pBj8veXkZz8uTjlsdT0oA+dv2r/APkfNF/7Bv8A7Vevpvw9/wAizpf/AF5xf+gCvPPit8E0+J+uWOpHXm0w2tv5Bj+yedvG4tnO9cHk+tem2NqLHTra0Ri628SxBj1IUAZ/SgD5H+Jv/J23/cU03/0XBX1/XkfiX4DxeIvi4njdvED24FzbXD2Qsw2TCqLgSbxjOwfwnGa9coA8S/ar/wCSWab/ANhqL/0RPW5+zn/yRHSv+u1x/wCjmrd+Kfw7T4m+E4dGfUm01obtLpJxD5vKq64K7l4w57+lXfh34MXwB4JtPDyXxv8A7O0jG4MXl7izlvu5OOvqaAPB/wBrPTWj1/w7qgU7ZraW3LY6FGDAf+RD+te+fDvURq3w18OXoOTLpsG8k5+YIA36g1xH7SPho678J5b2BC0+jzpdDHUx/ccfTDBv+A1X/Zl8RDVvhZ/ZbvmfR7l4dpPPlufMU/mzj/gNAHpXivxLY+D/AAtfa7qrYt7OIvtBwZG6Kg92OAPrXy38KfD198YvjBd+J/Eq+dZWswu7vI+Rn/5ZQj2G0cf3Uwete9/Fj4ZXXxO02wsE8RNpFrayNLJELTzhM+MKT8642jd6/erZ+HngSw+HfhGHRNPkM7B2lnuWQK08h6sRzjgAAZ6AUAX/ABd4YsvGPhO/0LUx+4vIigcDmNuquPcEA/hXyr8J/FF98IPi1deHvEjGCyuJvsd8pPyRuD+7mGe3PX+62ewr7Dryn4p/Aqw+JOtW+rwaqdHvki8qeQW3nCdR93I3rgjpn0wOwoA9WByMjkV4N+1fqCxeCNE04sA9xqJnA7kRxsp/9GivY/C+j3Ph/wAK6dpN7qL6nPZQLC13ImxpccAkZPbA6k8da+aP2ktRm8T/ABa0nwvpuJZbSKOBUB/5bzsDj/vny6APZPgBprab8FNEEq7ZLnzbhh7NI20/987a9JqjomlQ6F4f0/SbUfubG2jt09wihR/Kr1ABRRRQAUUUUAFFFFABRRRQAV8RfHKw0fRvi/qsfhqfCviS5jj4WGdwfMRSOo5yfQsR2r6p+K3j2H4eeBbrVMq1/L+4sYm53zEcEj0UZY/THevDv2f/AIZR+MZtV8WeL4PtlpMJbaAT8meVwRLLz6BiAf7xJ6rQB1X7KthoieE9Uv7WQSa09wIrsMMGKIDMYX/ZPzHPcjH8Ne918a6Hf6h8AvjfNZ37SPpu/wAm44OLi1c5WQDuw4PHcMvc19jW88V1bRXFtIssMqB45EOVdSMgg9wRQBJRXmHiP446R4S+IWpeHNesmgtrGyW5F4k2553YKREkW3knd13djnA5rDuv2hbzSJre68RfDvW9L0S4YCPUJiQxB6HYUA98b+nTNAHtdFV7C+ttU063v7CZZ7W5iWWGVDkOjDII/A15rrHxrDeI7rQ/Afhe/wDF13ZNtupLV/LgiOcEeZtbPII6AHHBNAHqVFeb+D/jFa694o/4RjxJod74Y15l3RWl6dyzDGfkfAyeCRwAccE1Z1/4or4d+LWjeDb/AEki31eNWh1L7TwHYsoTy9vXcoH3v4gcUAd/RXOePvGEHgPwTfeIbm3+1C1ChLcSbDK7MFC7sHHXOcHgVF8OvG8HxC8FWuv29t9jaZ3jltvN8wxOrEY3YGcjB6Dg0AdRRXB2XxNXUvjJe+A7HSjKthbefc6iLjhDtU7dm3nl1XO7rnjiu8oAKKKKACiiigAooooAKKKKACiiigAooooAKx/E/hTRfGWj/wBl+JbL7bZ+Ysvlea8fzDODlCD3PetiigCO3gjtbaK3gXZFEgRFznCgYAqSiigAooooAKKKKACiiigAooooAKKKKACiiigAooooAKKKKACiiigCC+soNS0+5sb2MS21zE0MsZ6MjAgj8QTXzt8H/C/in4afGrUtEuNH1GfQ71XhGoLbMYCFy8UhkxtBxlSM8F8V9IUUAFFFFABRRRQBHcTfZ7WWYRvL5aF9kYyzYGcAdya+cPg/4F8ReIfjBqPjrxto95pywyyXEMd7A0ReZzhQqsASqKTz2IWvpOigAooooAKKKKACiiigAooooAKRmVFLOQqqMkk4AFLSOiyIyOoZWGCpGQR6UAfHfjvXL/45/Ge10bQXJ06OU2tkcZVYwcyTn64LfQKOtfWmgaHZeGvD9lo2lx+XaWUKxRjuQOpPuTkk+pqLS/Cnh3Q7prnRdA0vTp3Xa0tpZxxMw9CVAOK1qAPG/wBoz4e/8JT4NGv6dDv1PRlLsFHMtv1df+A/eH/AvWsn9mf4i/2vocng7VJs3mmp5lkznmSDPKfVCRj/AGSOy17yyhlKsAQRggjrWTpvhLw5o16bzSPD+l2F0wKme1so4nIPUblAPNAHjEul2WqftmzLqNtHcrb2CTxLIMhZFhTa2PUZyPfmvRPjVbQ3XwZ8SLcRrIqWvmKD2ZWBU/gQK5W20HV1/a1u9ZbS7waW2mBFvTA3klvKUbd+Nucg8ZzXbfFWxutS+FPiKz062lurmazZY4YULu544Cjkn2FAHI+CtRudO/ZQXULV3+022iXckTg5KsvmbT+GB+ArgPgrq3xB0b4fKPBngWy1ayuLmSR72TUYonkcHaQVZwRgKB09+9eu/CvQpV+B+k6Jr9lNbNJZywXNtcRmNwru4IKnkZB/WvN/DUPxD+Bs99o0Hhe58W+HZZzNbTWBJkQnAztUMRwBlSMZyQetACeKNA+K3jrxt4V1bUPBVro7aLeLIbiLUoXypkRvmw+cLsJwAfvGtr9pnR5h4W0fxXp/yXmhXyt5g6qjkYP4Oqfma2/D/wAR/HXiXxFZWsfw2vNH0xpQLq81KUoyR9yEZVOfTrmu38Z+H08VeCdX0RwM3tq8aFuivjKN+DAH8KAPI/ivrcXxAh+HPhzTzmDxJdRX9wqnlYQoyD+DufqlN+DWoQ+A/F/j/wAG6jKIbTS5n1K3BPSAD5m5/wBjyjWD8BPBvir/AIWDb6h4v0nULK28P6bJbWDXls0Q3PI3ClgN3EkvI7EVP8fvCPiePx9Hrvg3S9QvV1bTHsb77FbPN6qQ20HAKFcZ/u0AdD+zjZT6qvifx1qKEXOuagyxljnagJZse258f8Ar2+ub+HnhseEfh5ouiFAkttar54H/AD1b5pP/AB5mrpKACvMfjN8P/FXjyHR18I61Fphs2mNwstzLCJdwTacxqckbW6/3q9OriviL8VNC+GUentr9vfznUDIIVsokcjZt3E7mUD760AeJf8M9fFX/AKG+w/8ABndf/G6P+Gevir/0N9h/4M7r/wCN12v/AA1X4I/6BXiD/wAB4P8A49R/w1X4I/6BXiD/AMB4P/j1AEHww+D/AI+8I+PbTWPEXia2u9PhjkWW3hvZ5TKWQqAQ6AYBIOc9q90rzDwX8ffCnjnxVb6Bpdnq1vd3Ku0TXcMaodqliMrIxzgE9O1en0AFebf8Xv8A+qf/APk7XpNFAHm3/F7/APqn/wD5O0b/AI2p96LwHJ7I14MfnXpNFAHm3n/Gv/nz8D/9/bqjz/jX/wA+fgf/AL+3Vek0UAebef8AGv8A58/A/wD39uqPP+Nf/Pn4H/7+3Vek0UAebfafjUvLWHgqQf3VmuQf1o+3fGf/AKBHg/8A8CbivSaKAPNvt3xn/wCgR4P/APAm4o+3fGf/AKBHg/8A8CbivSaKAPNvt3xn/wCgR4P/APAm4o+3/GYcnRvCLAdhdTgmvSaKAPNv7U+Mf/QueF//AAOl/wAKP7U+Mf8A0Lnhf/wOl/wr0migDzb+1PjH/wBC54X/APA6X/Cj+1PjH/0Lnhf/AMDpf8K9JooA82/tT4x/9C54X/8AA6X/AAo/tv4v/wDQo+H/APwZt/hXpNFAHm39t/F//oUfD/8A4M2/wo/tv4v/APQo+H//AAZt/hXpNFAHm39t/F//AKFHw/8A+DNv8KP7b+L/AP0KPh//AMGbf4V6TRQB5t/wkPxbHB8D6MxHcavgH9KP+Ei+Lf8A0I2j/wDg3H+Fek0UAebf8JF8W/8AoRtH/wDBuP8ACj/hIvi3/wBCNo//AINx/hXpNFAHm3/CRfFv/oRtH/8ABuP8KP8AhJ/iwvDfD3TXP95daQA/mK9JooA82/4Sn4r/APROtP8A/B5H/hR/wlPxX/6J1p//AIPI/wDCvSaKAPNv+Ep+K/8A0TrT/wDweR/4Uf8ACU/Ff/onWn/+DyP/AAr0migDzb/hLfionDfDO0k9016IY/MUf8Jf8U/+iXW//hQQ/wDxNek0UAebf8Jf8U/+iXW//hQQ/wDxNH/CX/FP/ol1v/4UEP8A8TXpNFAHm3/CX/FP/ol1v/4UEP8A8TR/wmXxRT73wpjk9k8RW4x+a16TRQB5t/wm3xO/6JH/AOXLbf8AxNH/AAm3xO/6JH/5ctt/8TXpNFAFbTZ7q50q0n1C0+w3csKPPa+aJPIcqCybxw2DkZHBxmrNFFABRRRQAUUUUAFFFFABRRRQAUUUUAFFFFABRRRQAUUUUAFY3iHwh4f8WJAviTSbbURbFjD56Z8vdjOPrgfkK2aKAOK/4U78Pf8AoU9O/wC/Z/xo/wCFO/D3/oU9O/79n/Gu1ooA5rRPh14Q8Oamuo6H4fsrK8RSqzRJhlBGDj8K6WiigAooooAKKKKACiiigAooooAKKKKACiiigAorA8c+KoPBXgnU9fuQrfZISYo2OPMkPCL+LED6ZNZ3wt8R674u8AWeu+Jraztrm9ZnijtEdVEWcKSGZjk4J69CKAOwooooAKK5f4ka7rXhj4f6nrfhu2tbm9sUExiulZkMYI3nCsp4XJ69qd8PPGMPjzwLp+vRKsck6bbiJTxFKpw6/TPI9iKAOmooooAKKKKACiiigAooooAKKKKACiiuQ8JfFHwt421y90nw/eSTXdkpeRJIWQMobaWUnqMkfmKAOvooooAKKKR3WNGd2CqoyWJwAPWgBaK8x+FvxL1j4jeJfEUiWdnF4b0+XybKdEcTTMScEktj7oyRtGNy100HxI8J3HjR/CcerqNcjcobR4JEywG4gMyhScc8HntQB1FFFc1qfxD8LaP4stPDOoaqses3jIsNqsMkhJc4XJVSq59yOOelAHS0V5t8X/iHrfw3h0XVLCwtbvSJ7vyNQMqsZEHBGwhgASofkg8gV6HZ3cF/YwXlnIstvcRrLFIvR1YZBH1BoAmooooAKKKKACiiigAooooAKKKKACiiigAooooAKKKKACiiigAooooAKKKKACiiigAooooAKKKKAOZ0r4jeEtaXV2sNbgKaK4TUJJleFICSwGWcAEZRuQSOPpWXY/Gr4d6jqg0+18UWv2hm2DzY5I0J9nZQp/Ovnv4Y+AoviD8T/EmnareTR6Na3bXV3aROV+1OsrrGDjoBufnryQMZyPSPjh8JPCdh8LrzV9B0i20u90vZIj267fNQuqsr/wB7hsgnnIHOCaAPXPEnjDw/4QsVu/EmrW9hE/3PMbLSf7qjLN+ANUfC3xJ8I+NJ3g8Na5BeToCxhKvFJjuQjgEj3AryD4JfDPT/ABp4dtvGPjqaTXpiptbK1u3LRQRRHYMg/e6HA6d+ScjB+M/hrTfhX8TPCviXwlEumJcStI8MTERq0TJuIHZWWTBA4xnjk0AfUUsscELyzyLHGgLO7tgKB1JJ6VwupfG/4caVcGC68U2ruDgm2jkuF/76jVh+tdV4j0G18T+G77RNQeVLa+hMMrQsFcA+hIIz+Brgx8PPg94OthaapZ6DbtjltWukMje+ZG4/DAoA7Pw1418OeMIXl8NaxbagIwDIkbYdAehZDhh+Iqv4s+IXhjwPLaR+KdT+wG93eQTbyyB9uM8opAxuHXHWvnmKPw/4Q/ah0D/hXeo2s+laj5aypY3YmiTzCyPGSCf7ofaScZHTjHvnxN8B23xD8E3WjzbUul/fWU7D/VTAcH6HlT7H6UAdXFLHPCk0LrJHIoZHU5DA8gg1z1h8QfDGqeMLjwvp+qrcaxahjNbxwyEJtxuy+3ZxkDr146188eGfjfqXgb4Y6t4S1aGZfEelubPTt658sEkHd/1zIOPXKjoK9Z+BXw6k8GeE21TWVZte1nE900mS8SHlYyTznnc3ucdqAOR/ac1OfUbjwv4LsWxJqV0JpOe+RHGD6jLOfwFe5QxWfh7w/HEg8qx021CgKpbZHGmOAOTgDoK+ffiAP7Q/a/8AC8E/KW4tdnGfus8g/wDHq+kKAOd8JePfDPjmG5l8K6ol+tqwWYeU8bIT0+V1BwcHnGODU/irxloHgnTY7/xPqKWFvJIIkYozl2xnAVASeB6cV4B4usbj4DfGa28VaPC3/CM6y5W4t4h8qAkGSP0yPvp06EdAas6ekn7QPxoOozq58G+HTiJHUhbg5yBg93IyfRFAODigD6EhmsvEGhJLH+/sNQtwy70ZfMjde6sARkHoRXg/7OF5N4f8YeL/AAHdOW+xXDzRA+sb+VIfx/dn8K+hQAqgKMAcADtXzZ4emXTv21dTt4cqt4ZkYDuTbiU/quaAPpOiivPvif8AFuw+GEmmpqGmXV8dQEhQwMqhdm3OSe/zUAeg0V4D/wANY6D/ANC3qP8A3+jo/wCGsdB/6FvUf+/0dAHv1FcF8MPivYfFCPU20/TLqx/s4xB/PZSH37sYI9Nhz9RXe0AYDeN/Dq+NP+ETbUlGt+V532Xyn4Tbuzv27fu84zmsS++Nfw707UzYXPim188HB8pJJUB95EUr+teH/ErRLnxN+1Q2hWl/Jp51KKGCWeMnIiMALjjrlQRjoc4PFewXfwF8ByeD5tFtNGiimMJWLUGJNwsmOHL9TzyR93tjFAHcTeI9Ft9BGtzarZppRQOL0zr5TKehDZwc1zejfGPwBr+qrpul+JbeS6dtiJLHJCHbOAFZ1AYn2NfPHwH8Dp8SZrmz8SahczaBoLpOmliVlSSWbdzweBiM5xzzwRk57j9oL4W+GNH+H3/CQeHtKt9Lu7GeNX+zLsWWNjtwVHGQSpz160AfQtec/DqH4YJ4q1z/AIV9HCNXjJTUdgn+X5zkDzPlxuH8HHA9q3PhjrFxr/wv8P6leyma5mskEspOS7r8pJ9yV5968a/Zz/5Kn44/3m/9HtQB7jrfjfw94d13S9G1nURbahq0gjsofJkfzWLBQMqpC/MwHzEVl+Ivi34F8Kag1hrniK3gu0OHhijkmaM+jCNW2n2OK8b/AGmlun+Ing9dOnNteFMQTBipjk81drZHIwcHNem+G/gP4H0TQRY6jpUOs3UgzcXt4uZJGPUrz8g9Mc+5PNAHbaD4k0fxRpov/D+o2+oWxO0yQvnaeuCOoPPQ81yPxy8Rv4a+EGsTwNtuLxBZREHBBkO1iD6hNx/CvKfhbZN4A/ad1vwhYSyf2bPHIqxMScLsE0ZOepVSVz3yfWt79q+4dfA+iW4+5JqJkb6rGwH/AKEaAOy+AegroXwb0f5QJb8NeykfxGQ/Kf8AvgIPwrif2jPBF1A1l8RfDe6HUNMdBdtEPm2qw8uX6qeD7Edlr2fwnbJZ+C9EtouEh0+CNeMcCNQP5VfvbW2vrCe0v4kmtZ42jmjkGVdCMEH2xQBwejfF3SL34Nt45u2VPssJW6tlPzC5GB5Q/wB5iuPZgTXn/wAA/Ct74p8Saj8UvFaiW6u5pFsQy8bj8ryL6BR8i/RvQV4NfmwtfFF7oFnrF0fCR1dS0yAkGNWZRLt7sELY9f5fd+jWVhp2h2Vno6RpYQQIluIzlfLA+XB78d+9AHM/F3w+viX4T6/Y7N8qWrXMIHXzIv3gA+u3H41zn7OXiN9e+EdtbTtum0md7Ik9Sgwyfkrhf+A16lPClzbyQSjKSoUYeoIwa+c/2SbxjH4psmJ2qbaZB6E+YG/ktAH0hRRRQAUUUUAFFFFABRRRQAUUUUAFFFFABRRRQAUUUUAFFFFABRRRQAUUUUAFFFFABRRRQAUUUUAfOH7Of/JU/HH+83/o9q9Q+OX/ACRPxJ/1wT/0alQ/Dv4Sp4A8Va9rK6y1/wD2uxIhNt5fkjeW+9uO7rjoOldP448MDxn4K1Lw+12bMX0YTzxHv2YYNnbkZ6eooA4z9nP/AJIjpX/Xa4/9HNXn37XP/Mo/9vv/ALQr2v4deDF8AeCLTw8t8b/7O0jG4MXl7i7lvu5OOuOprn/iz8I0+KbaN5mstpi6Y02Qtt5vmiTZkfeXaR5fXnrQBL8cfEupeFfhRqN/okrQXcjxwLOhw0QdsFgexxkA9ic1wPwo+CHg3xH4DsPEXiZJ9avtSVppWe7dFQ7iNvyMCSMckk85+le36/oOneJtButH1q3FxZXabJYyce4IPYggEHsRXjtv+zlf6VJJb+HviRremaVK257OJWBb6lZFUn320AcNrmgeFfDP7T3hPS/BMUUNrDNbfao47h5tlx5r7gS7MQduzjPH1zX0n4s8T2Hg7wtfa7qrYt7SPdtBwZG6Kg9ySB+NecWH7O+iaL4m8O6tompTQHSJvPuBPF5sl6+4EEvuATpjAUj8ck7vxR+Fs/xNk0yC48RSadpdm5kls47beZ3PG7fuGCFyBwcZNAHzzdeCPFfjnwprXxamdo7w3n2mC3jTBeFOGdfZMKB6hG9q+kfhL8QofiL4Ig1Biq6lb4gv4RxtkA+8B/dYcj8R2rr7HTrTTdLg06yt44bO3iEMcKr8qoBgDH0rznwX8GR4D+Il9r+g688el3odZNHNr8oU8qA+/wDhbp8ucZHcmgDz34ksdI/a38KXs3EV19kCsRwN0jRfoa+ka8D/AGodEnj03QPF2ngifS7ryZGA+6GIZGPsGTH1evYrLUG8VeCIdQ0S8Fm+p2Ikt7ny/M8hnTIbbkZKk9CeooA8S+Lus3fxR+JGn/C/w04+zW04l1O6UbgjKPm/BFJ+rEDgiqXwo1i7+EXxU1D4ceJZMWF/OGsrlhtUyEYR/o6gKeuGUD1r1L4W/CWz+G0eoXD6i2r6pfvma+kh8ttnXaBuY8nJJzycelJ8VfhFY/E2Cxk+3nStSsmIjvEg80mM8lCNy55wQc8c+tAHodfNnhVF1f8AbP1m7hAZbEzlj12lYhCf1bFe+Qyv4Z8HCbX9R+2tptkXu71o/LMvlplnK5OCQM9a8U/Zm0u41TUvFHjnUExLqNw0MbY6lm82XHtkp+RoA+gqKKKACiiigAooooA+b9Z/5Pa0/wCkf/pKa+kK85vfhIl58bLb4hf2yyGBVBsPs2dxERjz5m7jqDjaa9GoA+bf2Rv+Zu/7cv8A2vXoP7Rn/JEdV/67W/8A6OWrXwl+EafCwavs1ltUOpNF1tvJ8sR78D7zZJ3nnjpW/wDEXwYPH/gi78PG/wD7P+0PG32jyfN27HDfd3DOcY60AZHwN/5In4b/AOuD/wDo168v/Zz/AOSp+OP95v8A0e1e4+CPDC+DPBWm+H0ujeCxiKeeY9nmEsWJ25OOT0ya5j4d/CVPAHirXtZXWWv/AO12JEJtvL8kby33tx3dcdB0oA81/aM/5Kn4H/3l/wDR619H1518RfhKnj/xToWstrLWB0hgTCLbzPOAcNjO4bemM4PWvRaAPni0/wCT4r7/AK4D/wBIUrQ/autJJPAejXaglIdS2NgdN0bEf+g12sPwqWL44T/ET+2CTNGE/s/7N0PkLFnzN3oucbas/GXw03ir4T61YwIXuYYftUAUZJeM78D3IBX8aAN/wZerqPgPQbxMbbjTreQY7ZjU4rzb9oX4hSeHPDMfhnRWZtZ1wGLEfLxQE4YgDux+Uf8AAu4FaH7OviJdc+ENlbs+6fSpXs5B3wDuT8NrAfgakg+DKT/GCXx34g1xtVZZTJaWLWuxbfHEY3bzu2D2GW5oAw7T4D23/ChW8MzRxrr0w+3m4J+5d7flTP8AdA+Q/Unqah/Zx8eTX+k3PgjXi0eqaLkW6SjDNCDtKH3RuPoR6Gvca8t1j4Krc/Fq38d+H9eOjXKSJLcWy2nmrOw4fneNodeDwecnqaAPS726Sx0+4u5fuW8TStk9lGT/ACr56/ZKsWWz8UX7L8skltCje6iRmH/jy16d8bvEK+HPhBrk2/bNeQ/YoRnktL8px7hSx/Cs/wDZ88NN4c+ENg86bLjVHa/kBHZ8BP8AxxVP40AenUUUUAFFFFABRRRQAUUUUAFFFFABRRRQAUUUUAFFFFABRRRQAUUUUAFFFFABRRRQAUUUUAFFFFABRRRQAUUUUAFFFFABRRRQAUUUUAZPinw7Z+LPC2oaFqQ/0e+hMbMBkoeqsPdWAI9xWX8N/Btx4B8GQeH7jVzqq28jtDMbfydiMd2zG5uhLHOe/tXVUUAFFFFAHN+P/Ctx428FXvh+11U6V9s2rJcLD5p2BgSu3cvXGOvSrXg/wvZ+DPCOn6Dp3zQ2cW0yFcGVzyzkepYk/jW1RQAUUUUAFFFFABRRRQAUUUUAFFFFABRRRQAUUUUAFFFFAHn/AIB+Fcfw+8Wa9qOlasX0vVm3rpn2faLdgxK4fccgBmAG0cEelegUUUAFFFFAHBfEv4Y/8LKm0WK91h7PTdPuDNcWaQb/ALUTgfe3DYQoYZwfvmu7iiSGFIoUVI0UKqqMBQOABTqKACiiigAooooA/9k=)"
      ],
      "metadata": {
        "id": "ZcsW_03A9XAz"
      }
    },
    {
      "cell_type": "code",
      "source": [
        "from sklearn.preprocessing import MinMaxScaler"
      ],
      "metadata": {
        "id": "JLA5Kh1o7vMS"
      },
      "execution_count": 8,
      "outputs": []
    },
    {
      "cell_type": "code",
      "source": [
        "scaler=MinMaxScaler()"
      ],
      "metadata": {
        "id": "--RE7Ztf7vIS"
      },
      "execution_count": 9,
      "outputs": []
    },
    {
      "cell_type": "code",
      "source": [
        "Normalized_value=scaler.fit_transform(df)"
      ],
      "metadata": {
        "id": "vSkVGEC37vE-"
      },
      "execution_count": null,
      "outputs": []
    },
    {
      "cell_type": "code",
      "source": [
        "Normalized_value"
      ],
      "metadata": {
        "colab": {
          "base_uri": "https://localhost:8080/"
        },
        "id": "lLsuzCa27vBA",
        "outputId": "2cd7d6bb-c256-4a9f-c7ac-7dd2b2d33b59"
      },
      "execution_count": null,
      "outputs": [
        {
          "output_type": "execute_result",
          "data": {
            "text/plain": [
              "array([[0.2],\n",
              "       [0.1],\n",
              "       [0.3],\n",
              "       [0.4],\n",
              "       [0.2],\n",
              "       [0.6],\n",
              "       [1. ],\n",
              "       [0. ],\n",
              "       [0.1]])"
            ]
          },
          "metadata": {},
          "execution_count": 15
        }
      ]
    },
    {
      "cell_type": "markdown",
      "source": [
        "# **Manually**"
      ],
      "metadata": {
        "id": "7eafOJw6vFXl"
      }
    },
    {
      "cell_type": "code",
      "source": [
        "#The column convert to  numpy array\n",
        "x=df[\"Price\"].to_numpy()"
      ],
      "metadata": {
        "id": "z0orcdz-t6ja"
      },
      "execution_count": 5,
      "outputs": []
    },
    {
      "cell_type": "code",
      "source": [
        "x"
      ],
      "metadata": {
        "colab": {
          "base_uri": "https://localhost:8080/"
        },
        "id": "QyPdcjm0t6fM",
        "outputId": "d14f6177-74a7-4591-fe39-fc572861e032"
      },
      "execution_count": 6,
      "outputs": [
        {
          "output_type": "execute_result",
          "data": {
            "text/plain": [
              "array([110, 105, 115, 120, 110, 130, 150, 100, 105])"
            ]
          },
          "metadata": {},
          "execution_count": 6
        }
      ]
    },
    {
      "cell_type": "code",
      "source": [
        "x_new=(x-x.min())/(x.max()-x.min())"
      ],
      "metadata": {
        "id": "NracTzEbt6by"
      },
      "execution_count": 7,
      "outputs": []
    },
    {
      "cell_type": "code",
      "source": [
        "x_new"
      ],
      "metadata": {
        "colab": {
          "base_uri": "https://localhost:8080/"
        },
        "id": "_wBIlu2At6YA",
        "outputId": "7fe2f6d1-3f27-40ca-e228-3bea06dd73eb"
      },
      "execution_count": 8,
      "outputs": [
        {
          "output_type": "execute_result",
          "data": {
            "text/plain": [
              "array([0.2, 0.1, 0.3, 0.4, 0.2, 0.6, 1. , 0. , 0.1])"
            ]
          },
          "metadata": {},
          "execution_count": 8
        }
      ]
    },
    {
      "cell_type": "markdown",
      "source": [
        "# **Standardization**\n",
        "Down Scaling the Values to a scale common to all, usually in the range -1 to +1![standardisation.jpg](data:image/jpeg;base64,/9j/4AAQSkZJRgABAQEAYABgAAD/4RDaRXhpZgAATU0AKgAAAAgABAE7AAIAAAAFAAAISodpAAQAAAABAAAIUJydAAEAAAAKAAAQyOocAAcAAAgMAAAAPgAAAAAc6gAAAAgAAAAAAAAAAAAAAAAAAAAAAAAAAAAAAAAAAAAAAAAAAAAAAAAAAAAAAAAAAAAAAAAAAAAAAAAAAAAAAAAAAAAAAAAAAAAAAAAAAAAAAAAAAAAAAAAAAAAAAAAAAAAAAAAAAAAAAAAAAAAAAAAAAAAAAAAAAAAAAAAAAAAAAAAAAAAAAAAAAAAAAAAAAAAAAAAAAAAAAAAAAAAAAAAAAAAAAAAAAAAAAAAAAAAAAAAAAAAAAAAAAAAAAAAAAAAAAAAAAAAAAAAAAAAAAAAAAAAAAAAAAAAAAAAAAAAAAAAAAAAAAAAAAAAAAAAAAAAAAAAAAAAAAAAAAAAAAAAAAAAAAAAAAAAAAAAAAAAAAAAAAAAAAAAAAAAAAAAAAAAAAAAAAAAAAAAAAAAAAAAAAAAAAAAAAAAAAAAAAAAAAAAAAAAAAAAAAAAAAAAAAAAAAAAAAAAAAAAAAAAAAAAAAAAAAAAAAAAAAAAAAAAAAAAAAAAAAAAAAAAAAAAAAAAAAAAAAAAAAAAAAAAAAAAAAAAAAAAAAAAAAAAAAAAAAAAAAAAAAAAAAAAAAAAAAAAAAAAAAAAAAAAAAAAAAAAAAAAAAAAAAAAAAAAAAAAAAAAAAAAAAAAAAAAAAAAAAAAAAAAAAAAAAAAAAAAAAAAAAAAAAAAAAAAAAAAAAAAAAAAAAAAAAAAAAAAAAAAAAAAAAAAAAAAAAAAAAAAAAAAAAAAAAAAAAAAAAAAAAAAAAAAAAAAAAAAAAAAAAAAAAAAAAAAAAAAAAAAAAAAAAAAAAAAAAAAAAAAAAAAAAAAAAAAAAAAAAAAAAAAAAAAAAAAAAAAAAAAAAAAAAAAAAAAAAAAAAAAAAAAAAAAAAAAAAAAAAAAAAAAAAAAAAAAAAAAAAAAAAAAAAAAAAAAAAAAAAAAAAAAAAAAAAAAAAAAAAAAAAAAAAAAAAAAAAAAAAAAAAAAAAAAAAAAAAAAAAAAAAAAAAAAAAAAAAAAAAAAAAAAAAAAAAAAAAAAAAAAAAAAAAAAAAAAAAAAAAAAAAAAAAAAAAAAAAAAAAAAAAAAAAAAAAAAAAAAAAAAAAAAAAAAAAAAAAAAAAAAAAAAAAAAAAAAAAAAAAAAAAAAAAAAAAAAAAAAAAAAAAAAAAAAAAAAAAAAAAAAAAAAAAAAAAAAAAAAAAAAAAAAAAAAAAAAAAAAAAAAAAAAAAAAAAAAAAAAAAAAAAAAAAAAAAAAAAAAAAAAAAAAAAAAAAAAAAAAAAAAAAAAAAAAAAAAAAAAAAAAAAAAAAAAAAAAAAAAAAAAAAAAAAAAAAAAAAAAAAAAAAAAAAAAAAAAAAAAAAAAAAAAAAAAAAAAAAAAAAAAAAAAAAAAAAAAAAAAAAAAAAAAAAAAAAAAAAAAAAAAAAAAAAAAAAAAAAAAAAAAAAAAAAAAAAAAAAAAAAAAAAAAAAAAAAAAAAAAAAAAAAAAAAAAAAAAAAAAAAAAAAAAAAAAAAAAAAAAAAAAAAAAAAAAAAAAAAAAAAAAAAAAAAAAAAAAAAAAAAAAAAAAAAAAAAAAAAAAAAAAAAAAAAAAAAAAAAAAAAAAAAAAAAAAAAAAAAAAAAAAAAAAAAAAAAAAAAAAAAAAAAAAAAAAAAAAAAAAAAAAAAAAAAAAAAAAAAAAAAAAAAAAAAAAAAAAAAAAAAAAAAAAAAAAAAAAAAAAAAAAAAAAAAAAAAAAAAAAAAAAAAAAAAAAAAAAAAAAAAAAAAAAAAAAAAAAAAAAAAAAAAAAAAAAAAAAAAAAAAAAAAAAAAAAAAAAAAAAAAAAAAAAAAAAAAAAAAAAAAAAAAAAAAAAAAAAAAAAAAAAAAAAAAAAAAAAAAAAAAAAAAAAAAAAAAAAAAAAAAAAAAAAAAAAAAAAAAAAAAAAAAAAAAAAAAAAAAAAAAAAAAAAAAAAAAAAAAAAAAAAAAAAAAAAAAAAAAAAAAAAAAAAAAAAAAAAAAAAAAAAAAAAAAAAAAAAAAAAAAAAAAAAAAAAAAAAAAAAAAAAAAAAAAAAAAAAAAAAAAAAAAAAAAAAAAAAAAAAAAAAAAAAAAAAAAAAAAAAAAAAAAAAAAAAAAAAAAAAAAAAAAAAAAAAAAAAAAAAAAAAAAAAAAAAAAAAAAAAAAAAAAAAAAAAAAAAAAAAAAAAAAAAAAAAAAAAAAAAAAAAAAAAAAAAAAAAAAAAAAAAAAAAAAAAAAAAAAAAAAAAAAAAAAAAAAAAAAAAAAAAAAAAAAAAAAAAAAAAAAAAAAAAAAAAAAAAAAAAAAAAAAAAAAAAAAAAAAAAAAAAAAAAAAAAAAAAAAAAAAAAAAAAAAAAAAAAAAAAAAAAAAAAAAAAAAAAAAAAAAAAAAAAAAAAAAAAAAAAAAAAAAAAAAAAAAAAAAAAAAAAAAAAAAAAAAAAAAAAAAAAAAAAAAAAAAAAAAAAAAAAAAAAAAAAAAAAAAAAAAAAAAAAAAAAAAAAAAAAAAAAAAAAAAAAAAAAAAAAAAAAAAAAAAAAAAAAAAAAAAAAAAAAAAAAAAAAAAAAAAAAAAAAAAAAAAAAAAAAAAAAAAAAAAAAAAAAAAAAAAAAAAAAAAAAAAAAAAAAAAAAAAAAAAAAAAAAAAAAAAAAAAAAAAAAAAAAAAAAAAAAAAAAAAAAAAAAAAAAAAAAAAAAAAAAAAAAAAAAAAAAAAAAAAAAAAAAAAAAAAAAAAAAAAAAAAAAAAAAAAAAAAAAAAAAAAAAAAAAAAAAAAGRlbGwAAAAFkAMAAgAAABQAABCekAQAAgAAABQAABCykpEAAgAAAAMzOQAAkpIAAgAAAAMzOQAA6hwABwAACAwAAAiSAAAAABzqAAAACAAAAAAAAAAAAAAAAAAAAAAAAAAAAAAAAAAAAAAAAAAAAAAAAAAAAAAAAAAAAAAAAAAAAAAAAAAAAAAAAAAAAAAAAAAAAAAAAAAAAAAAAAAAAAAAAAAAAAAAAAAAAAAAAAAAAAAAAAAAAAAAAAAAAAAAAAAAAAAAAAAAAAAAAAAAAAAAAAAAAAAAAAAAAAAAAAAAAAAAAAAAAAAAAAAAAAAAAAAAAAAAAAAAAAAAAAAAAAAAAAAAAAAAAAAAAAAAAAAAAAAAAAAAAAAAAAAAAAAAAAAAAAAAAAAAAAAAAAAAAAAAAAAAAAAAAAAAAAAAAAAAAAAAAAAAAAAAAAAAAAAAAAAAAAAAAAAAAAAAAAAAAAAAAAAAAAAAAAAAAAAAAAAAAAAAAAAAAAAAAAAAAAAAAAAAAAAAAAAAAAAAAAAAAAAAAAAAAAAAAAAAAAAAAAAAAAAAAAAAAAAAAAAAAAAAAAAAAAAAAAAAAAAAAAAAAAAAAAAAAAAAAAAAAAAAAAAAAAAAAAAAAAAAAAAAAAAAAAAAAAAAAAAAAAAAAAAAAAAAAAAAAAAAAAAAAAAAAAAAAAAAAAAAAAAAAAAAAAAAAAAAAAAAAAAAAAAAAAAAAAAAAAAAAAAAAAAAAAAAAAAAAAAAAAAAAAAAAAAAAAAAAAAAAAAAAAAAAAAAAAAAAAAAAAAAAAAAAAAAAAAAAAAAAAAAAAAAAAAAAAAAAAAAAAAAAAAAAAAAAAAAAAAAAAAAAAAAAAAAAAAAAAAAAAAAAAAAAAAAAAAAAAAAAAAAAAAAAAAAAAAAAAAAAAAAAAAAAAAAAAAAAAAAAAAAAAAAAAAAAAAAAAAAAAAAAAAAAAAAAAAAAAAAAAAAAAAAAAAAAAAAAAAAAAAAAAAAAAAAAAAAAAAAAAAAAAAAAAAAAAAAAAAAAAAAAAAAAAAAAAAAAAAAAAAAAAAAAAAAAAAAAAAAAAAAAAAAAAAAAAAAAAAAAAAAAAAAAAAAAAAAAAAAAAAAAAAAAAAAAAAAAAAAAAAAAAAAAAAAAAAAAAAAAAAAAAAAAAAAAAAAAAAAAAAAAAAAAAAAAAAAAAAAAAAAAAAAAAAAAAAAAAAAAAAAAAAAAAAAAAAAAAAAAAAAAAAAAAAAAAAAAAAAAAAAAAAAAAAAAAAAAAAAAAAAAAAAAAAAAAAAAAAAAAAAAAAAAAAAAAAAAAAAAAAAAAAAAAAAAAAAAAAAAAAAAAAAAAAAAAAAAAAAAAAAAAAAAAAAAAAAAAAAAAAAAAAAAAAAAAAAAAAAAAAAAAAAAAAAAAAAAAAAAAAAAAAAAAAAAAAAAAAAAAAAAAAAAAAAAAAAAAAAAAAAAAAAAAAAAAAAAAAAAAAAAAAAAAAAAAAAAAAAAAAAAAAAAAAAAAAAAAAAAAAAAAAAAAAAAAAAAAAAAAAAAAAAAAAAAAAAAAAAAAAAAAAAAAAAAAAAAAAAAAAAAAAAAAAAAAAAAAAAAAAAAAAAAAAAAAAAAAAAAAAAAAAAAAAAAAAAAAAAAAAAAAAAAAAAAAAAAAAAAAAAAAAAAAAAAAAAAAAAAAAAAAAAAAAAAAAAAAAAAAAAAAAAAAAAAAAAAAAAAAAAAAAAAAAAAAAAAAAAAAAAAAAAAAAAAAAAAAAAAAAAAAAAAAAAAAAAAAAAAAAAAAAAAAAAAAAAAAAAAAAAAAAAAAAAAAAAAAAAAAAAAAAAAAAAAAAAAAAAAAAAAAAAAAAAAAAAAAAAAAAAAAAAAAAAAAAAAAAAAAAAAAAAAAAAAAAAAAAAAAAAAAAAAAAAAAAAAAAAAAAAAAAAAAAAAAAAAAAAAAAAAAAAAAAAAAAAAAAAAAAAAAAAAAAAAAAAAAAAAAAAAAAAAAAAAAAAAAAAAAAAAAAAAAAAAAAAAAAAAAAAAAAAAAAAAAAAAAAAAAAAAAAAAAAAAAAAAAAAAAAAAAAAAAAAAAAAAAAAAAAAAAAAAAAAAAAAAAAAAAAAAAAAAAAAAAAAAAAAAAAAAAAAAAAAAAAAAAAAAAAAAAAAAAAAAAAAAAAAAAAAAAAAAAAAAAAAAAAAAAAAAAAAAAAAAAAAAAAAAAAAAAAAAAAAAAAAAAAAAAAAAAAAAAAAAAAAAAAAAAAAAAAAAAAAAAAAAAAAAAAAAAAAAAAAAAAAAAAAAAAAAAAAAAAAAAAAAAAAAAAAAAAAAAAAAAAAAAAAAAAAAAAAAAAAAAAAAAAAAAAAAAAAAAAAAAAAAAAAAAAAAAAAAAAAAAAAAAAAAAAAAAAAAAAAAAAAAAAAAAAAAAAAAAAAAAAAAAAAAAAAAAAAAAAAAAAAAAAAAAAAAAAAAAAAAAAAAAAAAAAAAAAAAAAAAAAAAAAAAAAAAAAAAAAAAAAAAAAAAAAAAAAAAAAAAAAAAAAAAAAAAAAAAAAAAAAAAAAAAAAAAAAAAAAAAAAAAAAAAAAAAAAAAAAAAAAAAAAAAAAAAAAAAAAAAAAAAAAAAAAAAAAAAAAAAAAAAAAAAAAAAAAAAAAAAAAAAAAAAAAAAAAAAAAAAAAAAAAAAAAAAAAAAAAAAAAAAAAAAAAAAAAAAAAAAAAAAAAAAAAAAAAAAAAAAAAAAAAAAAAAAAAAAAAAAAAAAAAAAAAAAAAAAAAAAAAAAAAAAAAAAAAAAAAAAAAAAAAAAAAAAAAAAAAAAAAAAAAAAAAAAAAAAAAAAAAAAAAAAAAAAAAAAAAAAAAAAAAAAAAAAAAAAAAAMjAxODowNjozMCAxNDoyMDo0OAAyMDE4OjA2OjMwIDE0OjIwOjQ4AAAAZABlAGwAbAAAAP/hCxdodHRwOi8vbnMuYWRvYmUuY29tL3hhcC8xLjAvADw/eHBhY2tldCBiZWdpbj0n77u/JyBpZD0nVzVNME1wQ2VoaUh6cmVTek5UY3prYzlkJz8+DQo8eDp4bXBtZXRhIHhtbG5zOng9ImFkb2JlOm5zOm1ldGEvIj48cmRmOlJERiB4bWxuczpyZGY9Imh0dHA6Ly93d3cudzMub3JnLzE5OTkvMDIvMjItcmRmLXN5bnRheC1ucyMiPjxyZGY6RGVzY3JpcHRpb24gcmRmOmFib3V0PSJ1dWlkOmZhZjViZGQ1LWJhM2QtMTFkYS1hZDMxLWQzM2Q3NTE4MmYxYiIgeG1sbnM6ZGM9Imh0dHA6Ly9wdXJsLm9yZy9kYy9lbGVtZW50cy8xLjEvIi8+PHJkZjpEZXNjcmlwdGlvbiByZGY6YWJvdXQ9InV1aWQ6ZmFmNWJkZDUtYmEzZC0xMWRhLWFkMzEtZDMzZDc1MTgyZjFiIiB4bWxuczp4bXA9Imh0dHA6Ly9ucy5hZG9iZS5jb20veGFwLzEuMC8iPjx4bXA6Q3JlYXRlRGF0ZT4yMDE4LTA2LTMwVDE0OjIwOjQ4LjM5MjwveG1wOkNyZWF0ZURhdGU+PC9yZGY6RGVzY3JpcHRpb24+PHJkZjpEZXNjcmlwdGlvbiByZGY6YWJvdXQ9InV1aWQ6ZmFmNWJkZDUtYmEzZC0xMWRhLWFkMzEtZDMzZDc1MTgyZjFiIiB4bWxuczpkYz0iaHR0cDovL3B1cmwub3JnL2RjL2VsZW1lbnRzLzEuMS8iPjxkYzpjcmVhdG9yPjxyZGY6U2VxIHhtbG5zOnJkZj0iaHR0cDovL3d3dy53My5vcmcvMTk5OS8wMi8yMi1yZGYtc3ludGF4LW5zIyI+PHJkZjpsaT5kZWxsPC9yZGY6bGk+PC9yZGY6U2VxPg0KCQkJPC9kYzpjcmVhdG9yPjwvcmRmOkRlc2NyaXB0aW9uPjwvcmRmOlJERj48L3g6eG1wbWV0YT4NCiAgICAgICAgICAgICAgICAgICAgICAgICAgICAgICAgICAgICAgICAgICAgICAgICAgICAgICAgICAgICAgICAgICAgICAgICAgICAgICAgICAgICAgICAgICAgICAgICAgICAKICAgICAgICAgICAgICAgICAgICAgICAgICAgICAgICAgICAgICAgICAgICAgICAgICAgICAgICAgICAgICAgICAgICAgICAgICAgICAgICAgICAgICAgICAgICAgICAgICAgIAogICAgICAgICAgICAgICAgICAgICAgICAgICAgICAgICAgICAgICAgICAgICAgICAgICAgICAgICAgICAgICAgICAgICAgICAgICAgICAgICAgICAgICAgICAgICAgICAgICAgCiAgICAgICAgICAgICAgICAgICAgICAgICAgICAgICAgICAgICAgICAgICAgICAgICAgICAgICAgICAgICAgICAgICAgICAgICAgICAgICAgICAgICAgICAgICAgICAgICAgICAKICAgICAgICAgICAgICAgICAgICAgICAgICAgICAgICAgICAgICAgICAgICAgICAgICAgICAgICAgICAgICAgICAgICAgICAgICAgICAgICAgICAgICAgICAgICAgICAgICAgIAogICAgICAgICAgICAgICAgICAgICAgICAgICAgICAgICAgICAgICAgICAgICAgICAgICAgICAgICAgICAgICAgICAgICAgICAgICAgICAgICAgICAgICAgICAgICAgICAgICAgCiAgICAgICAgICAgICAgICAgICAgICAgICAgICAgICAgICAgICAgICAgICAgICAgICAgICAgICAgICAgICAgICAgICAgICAgICAgICAgICAgICAgICAgICAgICAgICAgICAgICAKICAgICAgICAgICAgICAgICAgICAgICAgICAgICAgICAgICAgICAgICAgICAgICAgICAgICAgICAgICAgICAgICAgICAgICAgICAgICAgICAgICAgICAgICAgICAgICAgICAgIAogICAgICAgICAgICAgICAgICAgICAgICAgICAgICAgICAgICAgICAgICAgICAgICAgICAgICAgICAgICAgICAgICAgICAgICAgICAgICAgICAgICAgICAgICAgICAgICAgICAgCiAgICAgICAgICAgICAgICAgICAgICAgICAgICAgICAgICAgICAgICAgICAgICAgICAgICAgICAgICAgICAgICAgICAgICAgICAgICAgICAgICAgICAgICAgICAgICAgICAgICAKICAgICAgICAgICAgICAgICAgICAgICAgICAgICAgICAgICAgICAgICAgICAgICAgICAgICAgICAgICAgICAgICAgICAgICAgICAgICAgICAgICAgICAgICAgICAgICAgICAgIAogICAgICAgICAgICAgICAgICAgICAgICAgICAgICAgICAgICAgICAgICAgICAgICAgICAgICAgICAgICAgICAgICAgICAgICAgICAgICAgICAgICAgICAgICAgICAgICAgICAgCiAgICAgICAgICAgICAgICAgICAgICAgICAgICAgICAgICAgICAgICAgICAgICAgICAgICAgICAgICAgICAgICAgICAgICAgICAgICAgICAgICAgICAgICAgICAgICAgICAgICAKICAgICAgICAgICAgICAgICAgICAgICAgICAgICAgICAgICAgICAgICAgICAgICAgICAgICAgICAgICAgICAgICAgICAgICAgICAgICAgICAgICAgICAgICAgICAgICAgICAgIAogICAgICAgICAgICAgICAgICAgICAgICAgICAgICAgICAgICAgICAgICAgICAgICAgICAgICAgICAgICAgICAgICAgICAgICAgICAgICAgICAgICAgICAgICAgICAgICAgICAgCiAgICAgICAgICAgICAgICAgICAgICAgICAgICAgICAgICAgICAgICAgICAgICAgICAgICAgICAgICAgICAgICAgICAgICAgICAgICAgICAgICAgICAgICAgICAgICAgICAgICAKICAgICAgICAgICAgICAgICAgICAgICAgICAgICAgICAgICAgICAgICAgICAgICAgICAgICAgICAgICAgICAgICAgICAgICAgICAgICAgICAgICAgICAgICAgICAgICAgICAgIAogICAgICAgICAgICAgICAgICAgICAgICAgICAgICAgICAgICAgICAgICAgICAgICAgICAgICAgICAgICAgICAgICAgICAgICAgICAgICAgICAgICAgICAgICAgICAgICAgICAgCiAgICAgICAgICAgICAgICAgICAgICAgICAgICAgICAgICAgICAgICAgICAgICAgICAgICAgICAgICAgICAgICAgICAgICAgICAgICAgICAgICAgICAgICAgICAgICAgICAgICAKICAgICAgICAgICAgICAgICAgICAgICAgICAgICAgICAgICAgICAgICAgICAgICAgICAgICAgICAgICAgICAgICAgICAgICAgICAgICAgICAgICAgICAgICAgICAgICAgICAgIAogICAgICAgICAgICAgICAgICAgICAgICAgICAgPD94cGFja2V0IGVuZD0ndyc/Pv/bAEMABwUFBgUEBwYFBggHBwgKEQsKCQkKFQ8QDBEYFRoZGBUYFxseJyEbHSUdFxgiLiIlKCkrLCsaIC8zLyoyJyorKv/bAEMBBwgICgkKFAsLFCocGBwqKioqKioqKioqKioqKioqKioqKioqKioqKioqKioqKioqKioqKioqKioqKioqKioqKv/AABEIAJgB0gMBIgACEQEDEQH/xAAfAAABBQEBAQEBAQAAAAAAAAAAAQIDBAUGBwgJCgv/xAC1EAACAQMDAgQDBQUEBAAAAX0BAgMABBEFEiExQQYTUWEHInEUMoGRoQgjQrHBFVLR8CQzYnKCCQoWFxgZGiUmJygpKjQ1Njc4OTpDREVGR0hJSlNUVVZXWFlaY2RlZmdoaWpzdHV2d3h5eoOEhYaHiImKkpOUlZaXmJmaoqOkpaanqKmqsrO0tba3uLm6wsPExcbHyMnK0tPU1dbX2Nna4eLj5OXm5+jp6vHy8/T19vf4+fr/xAAfAQADAQEBAQEBAQEBAAAAAAAAAQIDBAUGBwgJCgv/xAC1EQACAQIEBAMEBwUEBAABAncAAQIDEQQFITEGEkFRB2FxEyIygQgUQpGhscEJIzNS8BVictEKFiQ04SXxFxgZGiYnKCkqNTY3ODk6Q0RFRkdISUpTVFVWV1hZWmNkZWZnaGlqc3R1dnd4eXqCg4SFhoeIiYqSk5SVlpeYmZqio6Slpqeoqaqys7S1tre4ubrCw8TFxsfIycrS09TV1tfY2dri4+Tl5ufo6ery8/T19vf4+fr/2gAMAwEAAhEDEQA/APpGiiigAooooAKKKKACiiigAooooAKKKKACiiigAooooAKKKKACiiigAooooAKKKKACiiigAooooAKKKKACiiigAooooAKKKKACiiigAooooAKKKKACiiigAooooAKKKKACiiigAooooAKKKKACiiigAooooAKKKKACiiigAooooAKKKKACiiigAooooAKKKKACiiigAooooAKKKKACiiigAooooAKKKKACiiigAorzT446p4z8P+Ck1zwNqH2T7DIWvkFtHKzxHADDerY2nrjsSe1UfgP8VZ/iDoNxY69Mj67p5zK6oE+0RE8PgAAEHggDHQ96APWaKK+bvib8afFdx8To/CnwyvFj8mUWjPHBHMbi4Jwwy6kBVPHGOQxJxigD6RoqrpkV5BpNpFqlyt1exwItxOqBBLIFG5go6AnJxVqgAooooAKKKKACiivn/wCO/jf4i/D/AMU2l7oerrHoF6gEURs4nCSqPnRmZC3P3hyOpx0oA+gKK5vwB4ytPHngux12zwjTLtuIQf8AUzDh0/Pp6gg963NQ1C10rTbnUNQmWC1tYmlmlc8IqjJP5UAWKK+bfAXxU+IPxL+MAttIv1svDscxuJ7Y2kTCO1U/dLlS29uBkHqSRwK+kqACiiigAooooAKKKKACiiigAooooAKKKKACiiigAooooAKKKKACiiigAooooAKKKKACiiigAooooAKKKKACiiigAooooAKKKKACiiigAooooAKKKKACiiigCO4t4ru1lt7mNZYZkMckbjIdSMEEehFfGut2WpfAP43R3VgrvYpJ51uCTi4tXOGjJ7kDK891DelfZ1eV/tC+FNN1/wCF13qN7NFa3ejg3NtPJ3JwDF/wPgD/AGgtAEvxT+K1l4b+FMWtaFdLJd63EE0tlIyNy5MmP9gH/vraD1rgf2Zfh42JvHesRlpJN8OnCQZPpJN+PKg/73qK8L8L2zeLPFHh/wAO6vqrW2ntcLbRvI2VgR3ywUdASSfbJGeK++dP0+10rTbbT9PhWC1tYlihiQcIqjAH5UAWKKo6zrOneHtHuNU1q7js7G2AMs8h+VckAfmSAB3JpdH1nT/EGkW+qaNdR3llcqWimj6MASD+RBGPUUAXaKKrm/s1YhruAEHBBkHFAFiioFvrR3CpdQszHAAkBJqegArm/H3g608d+C77QrzarTJut5SP9TMOUf8AA9fUEjvXSUUAfIvwN8Y3fw3+Jdz4T8Sbra0vp/ss6SHAt7lTtR/TB+6T3BU5wK7D9pz4hNFDB4G0iUmWfbPqJjPO3rHF9ScMR6BfWs39qjwrp1lqOl+J7WaKG/vibe4txw02xciUfQYUn3Sua+AWjW/jj4uSap4nvvtV1Yx/bUinO57mUEANz1C5B+u3tmgD3v4J/DsfD/wLGt5EF1fUdtxfEjlDj5Yv+Ag/mWr0aiigAooooAKKKKACiiigAooooAKKKKACiiigAooooAKKKKACiiigAooooAK4P4rfEe6+GeiWeqReH31e2mmMMzrc+SIDjK5+Rs55Hbp7iu8rM8SeH7HxT4bvdE1aPzLW8iMbjup7MPcHBHuBQBhfDT4i6f8AErwv/atlCbSeKQxXVm0m8wt1HOBkEcg4Hf0rsK+NfAeuX/wP+M1xpWusUsWl+yX52/K0ROY5wPQZDeu0sOtfU3jvxnZeCPBF74gumSQRR4to93+vlb7igj1PcdACe1AHD/E34+WPw+8TR6FZ6O2tXojD3AW68kQlvur9xssRg444I9ePUtMubi90m0ury0ayuJ4EkltWbcYWKglCe5BOM+1fLXwG8G3fxB+IV5438TA3FtZXBnLSDInuydwH0TIbHb5B0r6voAKKKKACiiigAooooAKKKKACiiigAooooAKKKKACiiigAooooAK+W/2ifHFz4r8XWngLw5uuI7WdVnSI/wCvum4WP/gOcf7xOele0/F/4gR/D3wHcXsLr/ad1m3sIz/z0I5fHoo5+uB3ryD9mjwFLqerXPjzW1aURO8dk0vJkmP+sl564zgH1LdxQBjfFr4IL4I+H+i61pO6WezjWHV3Uk7pGORKPQBjs+mz3r2n4H/EQePvAsa3sobWNMCwXoJ5k4+SXH+0Bz/tBq9A1TTbTWdJutN1GFZrW7iaGaNv4lYYNfHWk3mo/AP43yQXZkksY38qfj/j5tHOQ49xweP4lI9aAPqj4kTaBb/DvVpvGFlLf6NHGrXVtDnfIA67cYZed209R0qT4fNocnw/0iTwnYyWGjyQeZa20n3o1Yknd8zc5JJOTyetc98aLmC9+A+vXVpKs0E9pFJFIhyrq0iEEH0INX/g7/yRzwz/ANeK/wAzQB2tfOl5+yaLq+nuF8aFBLIzhTpe4jJzjPnDP1r6LooA+e9G/ZWGk69Yai3jJpRZ3Mc+xNN2M2xg2A3mnB464OK+hKKKACorm5hs7Sa5upVhghRpJJHOAigZJJ9ABUtfP37TXxG/s/TI/BekzYubxRLqDIeUi/hj+rHk+wHZqAPPbqW+/aC+OiRRGWPR42wvbyLNDy3szk/m4HQUnxJ8OXnwT+L1lrnhlDDYSyfarEZJUDpJASeSOcf7rDvXuHwC+Hn/AAhXgVb3UIdmrauFnnDD5oo8fu4/bg5I9TjtXQfFfwJF8QfAV3pYVRfRfv7GQ/wyqOBn0YZU/XPagDe8L+I7Hxb4Ysdc0p91teRB1BOSh6Mp9wQQfcVm+MPiBpPgi80W21eK6kfWboWsBt0UqjZUZcswwvzDpk+1fPv7OHj6Xw34on8E64zQ29/MRbrLwYLocFOem7GMf3gPU11/7TtpHfzeCrOcsI7jUJInKnBAbywce/NAHS6x+0b4F0nU3tY21HUo432SXljbh4Eb/eZlz9VBz2zW5qvxk8E6T4Zstck1cXEGoLm0gtkLzTYOCAnUYIIO7AB4roLXwhoVl4Rbwza6dDHpDQGBrcLkMpGCTnqx65POea8M/ZX8L6TcaXqfiS5tVm1OC6+zQSyciFNisSo7MS3XrgY9cgHpvgj40eE/HerNpWnPd2OpAMVtNQhEbuB124ZgSOuM5xnjg13F/f2ml6fPfajcR21rboZJZpW2qijqSa8L+MNpFpv7QHw41SxUQXd5exQTyIMGRROi8+vyyMPpgVN+1JqlxH4d8P6JD5xh1O9Zpo4AS0ojC4QdjzICB3IHpQBuT/tH+Dkkka1sNevbKI4fULewHkL9SzBh+VeieGvFGj+L9Fj1Xw7epeWkhK7lBBRh1VlPKn2NeY6f8V73S9Kg03T/AIQeLYLKCMRRwJpzhVUDGMbay/gLYa3Y+PvF0svhnU9A0PUCLi2t722eFY28w7UUMADhWPToAPagDsvF3xy8H+Dtdm0W9a/vdSgIEttZW28qSoYDLFQTgjoTTfCPx18H+L9cTR4GvtN1CU7YoNRgEZkb+6CrMM+xIz2pnir4peD/AAV4pn06x0qbVfElyQ1xb6RZq8zHaMeY3GTtA45IAHAGK8c+L/ja58ReIPCmozeDNX8OXlleZS51O2aIzgMhCgkDO0jPtn3oA+kPGni/T/Avha417V4riW1t2RWS2VWclmCjAYgdT61x+vfH/wAFaD5CFr7ULmWBLh7awgWR4FZQw3ksFBAPIDEimftGf8kR1X/rtb/+jlrW+DnhfSPDnww0SXSrRIp9RsILu7mIy8skkYY5b0BOAOgH40AaXgb4ieHviHp0t34cuXZoCBPbzJsliJ6ZHIwcHkEjiuprwLwXZw6H+194r07S1+z2cth5rQpwpZ1gkPHT7zNj0zXvtABRRRQAUUUUAFFFFABRRRQAUUUUAeHftKfDr+3vDS+LNMhzqGkoRdBRzLbdSfqhyfoW9BXgjeI/FPxJtfC3gdZDOLNvs9quT85JwGc+iJwD2UH1Ne2/tM/EY6bpUfgzSZsXV8ol1BkPKQ5+WP6sRk/7I9Grx/xP8O/Efwt03wv4pMrxT3QWclVwbO4B3qh9TtwfqGHbkA+w/BvhWx8F+ErDQdMGYrWPDSEYMrnlnPuTk/p2rcrmPh541tPH3gmy1y02pJIuy6hBz5Mw+8v07j1BBroL2+tNNspbzUbqG0tYRuknnkCIg9Sx4FAE9FZl14l0Kx0uHUr3WtOt7C4UNDdTXaJFID0KuTgg5HQ1a0/UrHVrNbvSr23vbZ/uzW0qyI30ZSRQBZooJCqSxwBySe1YsPjTwvcagLC38SaRLeFtot0v4mkz6bQ2c0AbVFQ3l5a6fZy3eoXMNrbQrukmnkCIg9Sx4ApthqNlqtjHe6XeQXtpLkxz20qyRvg4OGUkHkEfhQBYoqidc0ldaXR21SyGpsm9bE3CecVxnPl53YwCc4qe8vbXTrOW71C5htbaFd0k08gREHqWPAFAE9FQWN/aanZRXmm3UF5azDMc9vIJEcdMhhwanoAKKKKACiiigAooooAKKKKAOZ8W/Drwt46ltpPFWl/b3tFZYT9olj2BsZ+4wz0HWtrSNIsNB0m30vSLZLWytU2QwpnCj8eT65PWrlFABXMeLPhv4T8cz28/inR0vprdSkUnnSRMqk5xlGBIz2NdPRQB5r8WtIs9D/Z81rS9It/Is7S0jjhiDFtiiVOMkkn8TWr8HePg54Zz/wA+K/zNdrRQAUUUUAFFFFABXGal8I/A+seJ38Q6noSXOpySLK80lxKVZlAAJTftPAHGMV2dFABRRRQBxd/8IfAup+Jj4gvdBjfVGmE7TrcSoDIDkMVVwpORnpz3rgP2jlJ1XwEQCR/apHT/AGoq9zooAK8K/ZSUr4A1kMCCNUIOR/0ySvdaKAPCvjcrH4zfC0hSf+JmnQf9PENdJ8ePAGo+OPBttLoC+Zqukz/aIYs4MqkYZV/2uFI/3cd69RooA8R0z9pXR7KwitfGeh6zputRqFngW1GHbHVQzKRk9iOM9TXfeAfH/wDwn0d/cQaBqmlWVu0Ygn1CMJ9p3BidoGRxgZ5P3hXYUUAfNmlayvwY+Nfiy+8babeNY61M8tpqkMPmKFaQuBnjqCAQOQVHGOax/jJ40u/iDceH73S9BvrXw/Z3yxQX15EY2uppMHCL/dATrz15x0r6rooA8u/aLBPwR1XAz++t/wD0ctdb8ORj4W+FQev9jWf/AKISukooA8K0FSP20PExIODpaEcf9MbavdaKKACiiigAooooAKKKKACiiigArC8aeK7LwV4Rv9e1Ijy7WPKR5wZZDwiD3JwPbk9q3a86+LPwsuvihb6far4jbSbSzZpGgFp5yyucAMfnXBAyB1+8aAPDfgz4Yvfip8V7zxf4lHn2tnP9qnJHyyzk5jjH+yuM47BQO9fTPjbwnZ+N/B9/oOoDCXMf7uTHMUg5Rx9Dj6jI71D4C8FWHgDwhbaFprGUREvNOy7Wnkbq5H5ADsAB2rpKAPkH4MeLrz4W/FG68MeJSbeyvJ/sl0jH5YJwcJIM9j0J7hgewr3/AOOX/JE/En/XBP8A0alYfxQ+Alh8RfEMetW2rHR7wxCO4ItfOE+PusRvXBA4zzkAelW/ilptzo/7OGqabfX76lcWljDC93Im1pisiDcRk8/iaAOU+FHwd0fxL4K0zxB47eTXZri1RLO3eV0is4FG1UUKRk4GT259eTV8DaX/AMK3/abvfCWiSv8A2JqdmZlt3ct5eE3jk9SCrAH0bnJr1D4O/wDJHPDP/Xiv8zXAXX/J6Fl/2Cj/AOiXoAi+P3igz+LfD/gS51U6PpF+q3WrXQbbmEuyhc+nyPx3O2oNS0P9n288Oyaba6jpdnN5ZWK8juJPNR8cMWOd3PY5HtUPx40+DQvi14U8Z6xpiahoOxbS+jkgEqfK7E7lIIJKyEgHrsrvrdfgrc6et7Fb+B/s7Lu3vBapj6ggEH2PNAHN/AnWLj4h/BvVdA8RTvc+QZNPMrncxgeMbcnuRlgD6AVF+zPqk9touv8Ag/UTi70S/b5CfuqxKso+jox/4FXqPg2bwnc6PLN4Ej01NPM7K502BYo2kAGeFABOMc/SvAviJq0/wk+PGsa1aK4t/EGjysm0cCZkIB/CWNWPoHNAHN6n4ivU+MUvxSRs6Pb+JBpwkBJzGqbTg+8QJ/GvXf2k9ckg+HtloGnnzLrX71IURG5dFIY49fm8sf8AAqw7T4feb+x+1n5X+myWx1oYHJbPmDHuYgF/GuY+H2rz/Fj4q+CluwzweFtJWS5EgzuljOA/1LeSfwoA+kvDGhxeGvCmmaLb4KWFrHBuH8RVQC34nJ/GtWiigAr5fm/aw1qOZ0PhazTaxG17h9y89Dx1r6gooA+Xf+Gsta/6Fiw/8CH/AMKP+Gsta/6Fiw/8CH/wr6iooA5z4f8Aiebxn4C0vxBdWf2KW+jZmgzkLh2XIPoduR7GujoooAKKKralPdW2lXc+n2n267ihd4LXzRH57hSVTeeFycDJ4Gc0AWaK82/4Tb4nf9Ej/wDLltv/AImj/hNvid/0SP8A8uW2/wDiaAPSaK82/wCE2+J3/RI//Lltv/iaP+E2+J3/AESP/wAuW2/+JoA9Jorzb/hNvid/0SP/AMuW2/8AiaP+E2+J3/RI/wDy5bb/AOJoA9Jorzb/AITb4nf9Ej/8uW2/+Jo/4Tb4nf8ARI//AC5bb/4mgD0mivNv+E2+J3/RI/8Ay5bb/wCJo/4Tb4nf9Ej/APLltv8A4mgD0mivNv8AhNvid/0SP/y5bb/4mj/hNvid/wBEj/8ALltv/iaAPSaK82/4Tb4nf9Ej/wDLltv/AImj/hNvid/0SP8A8uW2/wDiaAPSaK82/wCE2+J3/RI//Lltv/iaP+E2+J3/AESP/wAuW2/+JoA9Jorzb/hNvid/0SP/AMuW2/8AiaP+E2+J3/RI/wDy5bb/AOJoA9Jorzb/AITb4nf9Ej/8uW2/+Jo/4Tb4nf8ARI//AC5bb/4mgD0mivNv+E2+J3/RI/8Ay5bb/wCJo/4Tb4nf9Ej/APLltv8A4mgD0mivNv8AhNvid/0SP/y5bb/4mj/hNvid/wBEj/8ALltv/iaAPSaK82/4Tb4nf9Ej/wDLltv/AImj/hNvid/0SP8A8uW2/wDiaAPSaK82/wCE2+J3/RI//Lltv/iaP+E2+J3/AESP/wAuW2/+JoA9JooooAKKKKACiiigAooooAKKKKACiiigAqhrmiaf4j0W50jWrf7TY3S7Joi7LuGQeqkEcgdDV+igClo+kWOgaPa6VpEH2eytIxHDFvZtijtliSfxNUH8GaBJ4zj8WPYA63HD5C3XmvwmCMbN23oTzjNblFAFbUNOs9WsJbLU7WG8tZhtkgnjDo49weK4VvgN8NGujcHwvFvJzgXU4T/vjft/SvQ6KAKOj6Jpnh/TU0/RLGCwtIySsMCBVyep46k+tZPi34feF/HP2X/hKtKW/Npu8hvOkjKbsZGUYEjgcGukooAhjs7eKwSyjhVbZIhEsQHyhAMbfpjiuf8ACfw68KeB7i6n8LaStjLdgLM/nSSFgCSAN7HA57Y/SumooAKKKKACvl+b9k/WpJnc+KbN9zE7nt33Nz1PPWvqCigD5d/4ZN1r/oZ7D/wHf/Gj/hk3Wv8AoZ7D/wAB3/xr6iooA5z4f+GJvBngLS/D91efbZbGNlafGA2XZsAeg3YHsK6OiigAooooAKKKKACiiigAooooAKKKKACiiigAooooAKKKKACiiigAooooAKKKKACiiigAooooAKKKKACiiigAooooAKKKKACiiigAooooAKKKKACiiigAooooAKKKKACiiigAooooAKKKKACiiigAooooAKKKKACiiigAooooAjuLiK0tZbm5kWOGFDJI7dFUDJJ/CvEv+Gjp76a4ufDfw/1rVtGt3KyajGWAXHqqxsB2OCw617RqVjFqml3dhc7vJuoXhk2nB2spU4/A183xWvxK/Z5t7lrSC11/wl5/muwGPLzgbjj5oycAfxLQB7B4m+LOh+E/BGjeKNVtNQa01hYjDFBGjSJ5kfmDcGYAYHBwTzXc18rfH1NG8W+DPDnxK0yS6WbU9tkYJHUpGqiUsMYzuDhgTnHHSvQvE/gTwv8ADT4O3WjDxXq2i6Zc6ktzLc5EtxOxUKYVCBeCIwenGCTxQB7PRXxdBeaT4P8AH/hq9+Hr+KrPz7tVum1qNI1uV3oMJs+8pDNkMOMivRfiVpN74i/ai0nQ7HVrjSf7R0kQzXNscOIgJZHUHtkJj8e/SgD6Mor5u8FaRJ8MP2nYPB+j6neXOk6jau7x3MgJz5LSAsAACwaP7wAOD9c5/g3wnL8dPGvijXvEOvalZ/2ddBLBbSQKYMl9oGQcBQo4GCTk59QD1j4XfEXVfG/ijxjpuqW1nDDoV4sFs1ujhnUvMuX3MQT+7HQDqa9Jr5x+AcT6ddfFOHUtXaGS2dEn1RuChU3Iabk9cgt1rzPxJb+D7fRZtW8N6r4z1XW4XQprU0Cx2btvAY7ifMU4JxyeSBQB9tUV8x/FPW9U1b4N/DTVnumGqSXEcn2k9fNVMBz75Ga2/GfhmT4I/CPXLzQtc1K61XXpra3ubu4kBKP85d0wAVLAsMkk9Oe9AHp/xX8YX/gT4d3uv6TDbz3Vu8SolyrMh3OFOQpB6H1rc8J6rNr3gzRdXu0jSfUNPgupViBCqzxqxAyScZPcmvmLxj8I18L/AAPi8U2niDUJLm+htpdRtZGBhn8wqQAAAcqxByxOcdq+j/hx/wAks8Kf9gWz/wDRCUAcL44+OV54V+Ij+EdI8G3Ov3ixI6i3uSHkJTeQsaxuThec+x9KXwz+0BYaj4mh8P8Ai7w9f+FNRuCFiW9JKFicAMWVWXJ4BK4z3Fcrd/8AJ8Vj/wBcD/6QvV/9q23s/wDhB9Fu2VBfx6l5cL/xCMxuXAPpuWP9KAPeKK+X/jN4ukvvGnh/wr4l1e/0zw+mnQz6m1oMyTSOhJyB16KozkAknBql8L9Q0kfFV/BfhDVdT1Lwhr2nzwTw342tExhdmIAAGflxkAZ347UAfVtcb8UP+E4/4ROP/hWfl/2v9rTzN/lZ8na27Hm/Lnds/DOK8W+GvjK48A/C/wCIXh/UZimoeHpJPs2T0eQmEbfYSBW/4HWRrnhtvD37Iumyygrcatqsd/Jz2dWCf+OKp/GgD6p037Z/ZVp/aez7b5KfaPL+75m0bse2c1ZrwT4tjw1daT4UtvFfiPWoEfT126Lo8e+W8JC4c5+UYwQNwOecdDXH/By7hsvjRceGNAl1y38PalYyxtaauFjmU+Xu3FV+UNkHDAdDQB9AaJ8Q9J17x5rHhKzgvEv9ITfPJKiiJhkD5SGJP3h1ArPh/wCFif8AC6LjzfI/4Qb7MPK/1W7zPLH/AG03b89fl2+9eEeCvg94f1X43eI/DNzd6ktloYEts6SxiRyGThyUwR8x6AV39ox/4bPvRk4/soD/AMhJQB7nRXy/4H8Gv+0De674k8Z65qMdvDd+TZ2ltKoEII3YwwICgFRwAScknNWvBOqaxp3hb4seB9T1KXUbbQ9NvBazSuSUASVCBknAOFO3PBz60AfS1FfI2ifDV/EXwBm8Y6l4i1Ez6VBM+m2aOPJt1iY5GDzkkMcgjGR1r3j4G65feIPg9o15qs73F0olhaaRtzOEkZVJPc7QBnvjNAHoNFFFABRRRQAUUUUAFFFFABRRRQAUUUUAFFFFABRRRQAUUUUAFFFFABRRRQAUUUUAFFFFABRRRQAUUUUAFFFFAGd4g0+61Xw5qGn6ffSaddXNs8UN3HndA5UgOMEHIPPBFeL3/wALfjH4g099C8QeP9Pl0SXCylIyZnUEdf3Sk9OhfmveaKAPKfG/wVh1v4R6V4O8PXi2smkSLLby3OdsrYYPv2jjcXLZA4Pas/XPhJ4w8a/CwaJ418TWt3r1vf8A2q1uo4/3QQRhBE2EUn+I7sZye9ezUUAfP2p/Bj4meJ9Q0bUfF/i3TNRudLu0aOEBkjSLILkFYhlzsTqvOOTXcan8OtWvf2gtH8dRXNmNMsbJoJIWd/OLGOVeBt24zIv8Q6GvSaKAPMr74a6tc/tDad49jurMaZa2pieFmfzixhkj4G3bjLg53evFczN8F/G/h/xnqt/8OPF1tpOmazKZLqOZCZIwSThRsYNgs2DlSAcZ717nRQB494G+Cd54c0/xzpOr6sl1Z+JIkhhuUZmnAAlDPIGUDdmQHAJ781yw+BfxKbwhN4Pl8Zab/wAI5GHa2tUjYGR9xkUOfL3Ku/DH5mx2Br6KooA8W8S/BvX9Z+Gngzw7bXumpd6DKr3TySSCNwBzsIQk/iBXofxD8FweP/BN7oFxObZptrwzhd3lyKcqcdx2I9Ca6aigD56ufgf8SdY8HN4e17xrZzafYxqum2cZYRsVIC+a/lhtqr0Hz44xjFe3+E9Km0HwZoukXbxvPp+nwWsrRElWZI1UkZAOMjuBWtRQB4j46+EvjnUfjAfHHgjWtJ0+ZYlWFrssXjPlGNvl8p1IKk9fX2zRp3wS8SeIvFNlrfxb8URa2LFt0VjbJiInIOD8qgKSBkBecDmvbqKAPLviX8KtU8S+KdP8XeDNbXRvEVhF5KySqSki/NjkA4OGYH5SCDg1P4G8KfEqz8SrqnxA8ZW+owRQvGljZR7Y2LYwzYRBkY/umvSqKAPA/iV8Adb8XfEW71rQtUsbLTdTWIX0UskiuSuAxCqpVvuKwyR83p1rufix8O73xr8N7bw14cktLRraeFo/tTMqCNFZcZVWOcEdq9DooA8g8efCTxFq+teHfEng7XLXTte0axjswblSYiF3fMDtb++4wVIII6VV8H/CPxhpPxbs/GninxBZavKbZ1vHXcr+YVZFVFCBSgXbz8vfj19pooA8X1r4S+NLX4tX3i3wJ4ks9Nh1TAvEuFJcL8u5VGxlbJXIPykV0EPw71WP9oG48dNc2f8AZktkLdYQ7+cG2KvTbtxx/er0iigDwqT4M+PPCWv6ncfCrxbaabp2pSGSS1vE/wBV14H7twcZIBwpxgds1veFvg1N4b8AeKrGXVF1HxF4ltJ4ri9lysYd0cKO7Y3OSW6nPTivV6KAPMfDfw11fSPgFeeB7q6sm1Ke2uolmjdzCGkZiuSVDY5Gfl/Otz4UeD7/AMCfDuy0DVpree6t3lZ3tmZkO5ywwWAPQ+ldlRQAUUUUAFFFFABRRRQAUUUUAFFFFABRRRQAUUUUAFFFFABRRRQAUUUUAFFFFABRRRQAUUUUAFFFFABRRRQAUUUUAFFFFABRRRQAUUUUAFFFFABRRRQAUUUUAFFFFABRRRQAUUUUAFFFFABRRRQAUUUUAFFFFABRRRQAUUUUAFFFFABRRRQB/9k=)"
      ],
      "metadata": {
        "id": "6FEBp5wKAQxp"
      }
    },
    {
      "cell_type": "code",
      "source": [
        "from sklearn.preprocessing import  StandardScaler\n",
        "scaler=StandardScaler()\n",
        "standard_value=scaler.fit_transform(df)"
      ],
      "metadata": {
        "id": "Go9JB-U07u9P"
      },
      "execution_count": null,
      "outputs": []
    },
    {
      "cell_type": "code",
      "source": [
        "standard_value"
      ],
      "metadata": {
        "colab": {
          "base_uri": "https://localhost:8080/"
        },
        "id": "fTeSWnd17u5W",
        "outputId": "4fa0740e-6fc8-47a9-d676-bf99a5e81ee4"
      },
      "execution_count": null,
      "outputs": [
        {
          "output_type": "execute_result",
          "data": {
            "text/plain": [
              "array([[-0.41635614],\n",
              "       [-0.75701116],\n",
              "       [-0.07570112],\n",
              "       [ 0.26495391],\n",
              "       [-0.41635614],\n",
              "       [ 0.94626396],\n",
              "       [ 2.30888405],\n",
              "       [-1.09766619],\n",
              "       [-0.75701116]])"
            ]
          },
          "metadata": {},
          "execution_count": 17
        }
      ]
    },
    {
      "cell_type": "markdown",
      "source": [
        "# **Manually**"
      ],
      "metadata": {
        "id": "U-Dixw1DvaJn"
      }
    },
    {
      "cell_type": "code",
      "source": [],
      "metadata": {
        "id": "t34_ru04JF2y"
      },
      "execution_count": null,
      "outputs": []
    },
    {
      "cell_type": "code",
      "source": [
        "#The Column(Price) convert to numpy array\n",
        "y=df[\"Price\"].to_numpy()"
      ],
      "metadata": {
        "id": "HJztlxqR7uy6"
      },
      "execution_count": 18,
      "outputs": []
    },
    {
      "cell_type": "code",
      "source": [
        "y"
      ],
      "metadata": {
        "id": "_ZocS-CjBtj1",
        "colab": {
          "base_uri": "https://localhost:8080/"
        },
        "outputId": "c62ae1dc-84e7-48d8-8039-0b648371c314"
      },
      "execution_count": 10,
      "outputs": [
        {
          "output_type": "execute_result",
          "data": {
            "text/plain": [
              "array([110, 105, 115, 120, 110, 130, 150, 100, 105])"
            ]
          },
          "metadata": {},
          "execution_count": 10
        }
      ]
    },
    {
      "cell_type": "code",
      "source": [
        "#Calculating Standard Deviation\n",
        "sd=y.std()"
      ],
      "metadata": {
        "id": "JzkNWWo-BtgE"
      },
      "execution_count": 11,
      "outputs": []
    },
    {
      "cell_type": "code",
      "source": [
        "sd"
      ],
      "metadata": {
        "id": "esr3wHz-Btcc",
        "colab": {
          "base_uri": "https://localhost:8080/"
        },
        "outputId": "fdc7f5d4-3d51-4809-b3d3-82824a8d2aa2"
      },
      "execution_count": 12,
      "outputs": [
        {
          "output_type": "execute_result",
          "data": {
            "text/plain": [
              "14.677605348469895"
            ]
          },
          "metadata": {},
          "execution_count": 12
        }
      ]
    },
    {
      "cell_type": "code",
      "source": [
        "#Calculating Mean\n",
        "mn=y.mean()"
      ],
      "metadata": {
        "id": "XIIIEKShBtYb"
      },
      "execution_count": 13,
      "outputs": []
    },
    {
      "cell_type": "code",
      "source": [
        "mn"
      ],
      "metadata": {
        "id": "Xsa_a7eQBtUx",
        "colab": {
          "base_uri": "https://localhost:8080/"
        },
        "outputId": "dcd22fdd-9553-4f6f-9e45-705e894ba3c8"
      },
      "execution_count": 14,
      "outputs": [
        {
          "output_type": "execute_result",
          "data": {
            "text/plain": [
              "116.11111111111111"
            ]
          },
          "metadata": {},
          "execution_count": 14
        }
      ]
    },
    {
      "cell_type": "code",
      "source": [
        "#Stanardization\n",
        "x_new=(y-mn)/(sd)"
      ],
      "metadata": {
        "id": "zTIc3UXhBtRv"
      },
      "execution_count": 15,
      "outputs": []
    },
    {
      "cell_type": "code",
      "source": [
        "x_new"
      ],
      "metadata": {
        "id": "y816hep8BtOE",
        "colab": {
          "base_uri": "https://localhost:8080/"
        },
        "outputId": "91746834-afcb-4ed3-fa33-66a6c577f5b6"
      },
      "execution_count": 16,
      "outputs": [
        {
          "output_type": "execute_result",
          "data": {
            "text/plain": [
              "array([-0.41635614, -0.75701116, -0.07570112,  0.26495391, -0.41635614,\n",
              "        0.94626396,  2.30888405, -1.09766619, -0.75701116])"
            ]
          },
          "metadata": {},
          "execution_count": 16
        }
      ]
    },
    {
      "cell_type": "markdown",
      "source": [
        "# **Logarithm(log) Transformation**\n",
        ">Log transformation means replacing each value with logarithm value.\n",
        "\n"
      ],
      "metadata": {
        "id": "3pDU5L6kxLR8"
      }
    },
    {
      "cell_type": "code",
      "source": [
        "log_trans=np.log10(df)"
      ],
      "metadata": {
        "id": "rt-Q5gdKBtDk"
      },
      "execution_count": 10,
      "outputs": []
    },
    {
      "cell_type": "code",
      "source": [
        "log_trans"
      ],
      "metadata": {
        "colab": {
          "base_uri": "https://localhost:8080/",
          "height": 332
        },
        "id": "gzKU66Y_yoUO",
        "outputId": "c914ce20-bb4c-4f12-e9d5-1ec7239d65e2"
      },
      "execution_count": 22,
      "outputs": [
        {
          "output_type": "execute_result",
          "data": {
            "text/plain": [
              "      Price\n",
              "0  2.041393\n",
              "1  2.021189\n",
              "2  2.060698\n",
              "3  2.079181\n",
              "4  2.041393\n",
              "5  2.113943\n",
              "6  2.176091\n",
              "7  2.000000\n",
              "8  2.021189"
            ],
            "text/html": [
              "\n",
              "  <div id=\"df-0a77695a-709c-44e8-aa44-bcdf4e3d36e0\" class=\"colab-df-container\">\n",
              "    <div>\n",
              "<style scoped>\n",
              "    .dataframe tbody tr th:only-of-type {\n",
              "        vertical-align: middle;\n",
              "    }\n",
              "\n",
              "    .dataframe tbody tr th {\n",
              "        vertical-align: top;\n",
              "    }\n",
              "\n",
              "    .dataframe thead th {\n",
              "        text-align: right;\n",
              "    }\n",
              "</style>\n",
              "<table border=\"1\" class=\"dataframe\">\n",
              "  <thead>\n",
              "    <tr style=\"text-align: right;\">\n",
              "      <th></th>\n",
              "      <th>Price</th>\n",
              "    </tr>\n",
              "  </thead>\n",
              "  <tbody>\n",
              "    <tr>\n",
              "      <th>0</th>\n",
              "      <td>2.041393</td>\n",
              "    </tr>\n",
              "    <tr>\n",
              "      <th>1</th>\n",
              "      <td>2.021189</td>\n",
              "    </tr>\n",
              "    <tr>\n",
              "      <th>2</th>\n",
              "      <td>2.060698</td>\n",
              "    </tr>\n",
              "    <tr>\n",
              "      <th>3</th>\n",
              "      <td>2.079181</td>\n",
              "    </tr>\n",
              "    <tr>\n",
              "      <th>4</th>\n",
              "      <td>2.041393</td>\n",
              "    </tr>\n",
              "    <tr>\n",
              "      <th>5</th>\n",
              "      <td>2.113943</td>\n",
              "    </tr>\n",
              "    <tr>\n",
              "      <th>6</th>\n",
              "      <td>2.176091</td>\n",
              "    </tr>\n",
              "    <tr>\n",
              "      <th>7</th>\n",
              "      <td>2.000000</td>\n",
              "    </tr>\n",
              "    <tr>\n",
              "      <th>8</th>\n",
              "      <td>2.021189</td>\n",
              "    </tr>\n",
              "  </tbody>\n",
              "</table>\n",
              "</div>\n",
              "    <div class=\"colab-df-buttons\">\n",
              "\n",
              "  <div class=\"colab-df-container\">\n",
              "    <button class=\"colab-df-convert\" onclick=\"convertToInteractive('df-0a77695a-709c-44e8-aa44-bcdf4e3d36e0')\"\n",
              "            title=\"Convert this dataframe to an interactive table.\"\n",
              "            style=\"display:none;\">\n",
              "\n",
              "  <svg xmlns=\"http://www.w3.org/2000/svg\" height=\"24px\" viewBox=\"0 -960 960 960\">\n",
              "    <path d=\"M120-120v-720h720v720H120Zm60-500h600v-160H180v160Zm220 220h160v-160H400v160Zm0 220h160v-160H400v160ZM180-400h160v-160H180v160Zm440 0h160v-160H620v160ZM180-180h160v-160H180v160Zm440 0h160v-160H620v160Z\"/>\n",
              "  </svg>\n",
              "    </button>\n",
              "\n",
              "  <style>\n",
              "    .colab-df-container {\n",
              "      display:flex;\n",
              "      gap: 12px;\n",
              "    }\n",
              "\n",
              "    .colab-df-convert {\n",
              "      background-color: #E8F0FE;\n",
              "      border: none;\n",
              "      border-radius: 50%;\n",
              "      cursor: pointer;\n",
              "      display: none;\n",
              "      fill: #1967D2;\n",
              "      height: 32px;\n",
              "      padding: 0 0 0 0;\n",
              "      width: 32px;\n",
              "    }\n",
              "\n",
              "    .colab-df-convert:hover {\n",
              "      background-color: #E2EBFA;\n",
              "      box-shadow: 0px 1px 2px rgba(60, 64, 67, 0.3), 0px 1px 3px 1px rgba(60, 64, 67, 0.15);\n",
              "      fill: #174EA6;\n",
              "    }\n",
              "\n",
              "    .colab-df-buttons div {\n",
              "      margin-bottom: 4px;\n",
              "    }\n",
              "\n",
              "    [theme=dark] .colab-df-convert {\n",
              "      background-color: #3B4455;\n",
              "      fill: #D2E3FC;\n",
              "    }\n",
              "\n",
              "    [theme=dark] .colab-df-convert:hover {\n",
              "      background-color: #434B5C;\n",
              "      box-shadow: 0px 1px 3px 1px rgba(0, 0, 0, 0.15);\n",
              "      filter: drop-shadow(0px 1px 2px rgba(0, 0, 0, 0.3));\n",
              "      fill: #FFFFFF;\n",
              "    }\n",
              "  </style>\n",
              "\n",
              "    <script>\n",
              "      const buttonEl =\n",
              "        document.querySelector('#df-0a77695a-709c-44e8-aa44-bcdf4e3d36e0 button.colab-df-convert');\n",
              "      buttonEl.style.display =\n",
              "        google.colab.kernel.accessAllowed ? 'block' : 'none';\n",
              "\n",
              "      async function convertToInteractive(key) {\n",
              "        const element = document.querySelector('#df-0a77695a-709c-44e8-aa44-bcdf4e3d36e0');\n",
              "        const dataTable =\n",
              "          await google.colab.kernel.invokeFunction('convertToInteractive',\n",
              "                                                    [key], {});\n",
              "        if (!dataTable) return;\n",
              "\n",
              "        const docLinkHtml = 'Like what you see? Visit the ' +\n",
              "          '<a target=\"_blank\" href=https://colab.research.google.com/notebooks/data_table.ipynb>data table notebook</a>'\n",
              "          + ' to learn more about interactive tables.';\n",
              "        element.innerHTML = '';\n",
              "        dataTable['output_type'] = 'display_data';\n",
              "        await google.colab.output.renderOutput(dataTable, element);\n",
              "        const docLink = document.createElement('div');\n",
              "        docLink.innerHTML = docLinkHtml;\n",
              "        element.appendChild(docLink);\n",
              "      }\n",
              "    </script>\n",
              "  </div>\n",
              "\n",
              "\n",
              "<div id=\"df-0257a883-99a9-4a6d-956f-89234210258c\">\n",
              "  <button class=\"colab-df-quickchart\" onclick=\"quickchart('df-0257a883-99a9-4a6d-956f-89234210258c')\"\n",
              "            title=\"Suggest charts.\"\n",
              "            style=\"display:none;\">\n",
              "\n",
              "<svg xmlns=\"http://www.w3.org/2000/svg\" height=\"24px\"viewBox=\"0 0 24 24\"\n",
              "     width=\"24px\">\n",
              "    <g>\n",
              "        <path d=\"M19 3H5c-1.1 0-2 .9-2 2v14c0 1.1.9 2 2 2h14c1.1 0 2-.9 2-2V5c0-1.1-.9-2-2-2zM9 17H7v-7h2v7zm4 0h-2V7h2v10zm4 0h-2v-4h2v4z\"/>\n",
              "    </g>\n",
              "</svg>\n",
              "  </button>\n",
              "\n",
              "<style>\n",
              "  .colab-df-quickchart {\n",
              "    background-color: #E8F0FE;\n",
              "    border: none;\n",
              "    border-radius: 50%;\n",
              "    cursor: pointer;\n",
              "    display: none;\n",
              "    fill: #1967D2;\n",
              "    height: 32px;\n",
              "    padding: 0 0 0 0;\n",
              "    width: 32px;\n",
              "  }\n",
              "\n",
              "  .colab-df-quickchart:hover {\n",
              "    background-color: #E2EBFA;\n",
              "    box-shadow: 0px 1px 2px rgba(60, 64, 67, 0.3), 0px 1px 3px 1px rgba(60, 64, 67, 0.15);\n",
              "    fill: #174EA6;\n",
              "  }\n",
              "\n",
              "  [theme=dark] .colab-df-quickchart {\n",
              "    background-color: #3B4455;\n",
              "    fill: #D2E3FC;\n",
              "  }\n",
              "\n",
              "  [theme=dark] .colab-df-quickchart:hover {\n",
              "    background-color: #434B5C;\n",
              "    box-shadow: 0px 1px 3px 1px rgba(0, 0, 0, 0.15);\n",
              "    filter: drop-shadow(0px 1px 2px rgba(0, 0, 0, 0.3));\n",
              "    fill: #FFFFFF;\n",
              "  }\n",
              "</style>\n",
              "\n",
              "  <script>\n",
              "    async function quickchart(key) {\n",
              "      const charts = await google.colab.kernel.invokeFunction(\n",
              "          'suggestCharts', [key], {});\n",
              "    }\n",
              "    (() => {\n",
              "      let quickchartButtonEl =\n",
              "        document.querySelector('#df-0257a883-99a9-4a6d-956f-89234210258c button');\n",
              "      quickchartButtonEl.style.display =\n",
              "        google.colab.kernel.accessAllowed ? 'block' : 'none';\n",
              "    })();\n",
              "  </script>\n",
              "</div>\n",
              "    </div>\n",
              "  </div>\n"
            ]
          },
          "metadata": {},
          "execution_count": 22
        }
      ]
    },
    {
      "cell_type": "markdown",
      "source": [
        "# **Max Absolute Scaler**\n",
        "---\n",
        "> The MaxAbsScaler is a type of feature scaling used to transform features by scaling them to a [-1, 1] range while preserving the relative relationships between data points.\n",
        "---\n",
        "![download (1).png](data:image/png;base64,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)\n",
        "\n",
        "\n",
        "\n"
      ],
      "metadata": {
        "id": "xcrofXiOLZ15"
      }
    },
    {
      "cell_type": "code",
      "source": [
        "from sklearn.preprocessing import MaxAbsScaler"
      ],
      "metadata": {
        "id": "XNISPp7eyoQc"
      },
      "execution_count": 12,
      "outputs": []
    },
    {
      "cell_type": "code",
      "source": [
        "#Creating Object\n",
        "scaler=MaxAbsScaler()"
      ],
      "metadata": {
        "id": "K44PIuFGyoMA"
      },
      "execution_count": 13,
      "outputs": []
    },
    {
      "cell_type": "code",
      "source": [
        "X_new=scaler.fit_transform(df[[\"Price\"]])"
      ],
      "metadata": {
        "id": "CvzD-ShsyoHd"
      },
      "execution_count": 15,
      "outputs": []
    },
    {
      "cell_type": "code",
      "source": [
        "X_new"
      ],
      "metadata": {
        "colab": {
          "base_uri": "https://localhost:8080/"
        },
        "id": "yL_uteOtyoD7",
        "outputId": "7957a54c-3680-4746-9de7-512c45346ba9"
      },
      "execution_count": 16,
      "outputs": [
        {
          "output_type": "execute_result",
          "data": {
            "text/plain": [
              "array([[0.73333333],\n",
              "       [0.7       ],\n",
              "       [0.76666667],\n",
              "       [0.8       ],\n",
              "       [0.73333333],\n",
              "       [0.86666667],\n",
              "       [1.        ],\n",
              "       [0.66666667],\n",
              "       [0.7       ]])"
            ]
          },
          "metadata": {},
          "execution_count": 16
        }
      ]
    },
    {
      "cell_type": "markdown",
      "source": [
        "# **Manually**"
      ],
      "metadata": {
        "id": "zJJaoLrpOfs0"
      }
    },
    {
      "cell_type": "code",
      "source": [
        "y"
      ],
      "metadata": {
        "colab": {
          "base_uri": "https://localhost:8080/"
        },
        "id": "mna7crSSyoAg",
        "outputId": "7716e364-0e5d-4c0e-d8ba-87c1e7b7ec3b"
      },
      "execution_count": 19,
      "outputs": [
        {
          "output_type": "execute_result",
          "data": {
            "text/plain": [
              "array([110, 105, 115, 120, 110, 130, 150, 100, 105])"
            ]
          },
          "metadata": {},
          "execution_count": 19
        }
      ]
    },
    {
      "cell_type": "code",
      "source": [
        "#Slect Maximum Value\n",
        "max_value=y.max()"
      ],
      "metadata": {
        "id": "hi63HZBYyn8v"
      },
      "execution_count": 20,
      "outputs": []
    },
    {
      "cell_type": "code",
      "source": [
        "max_value"
      ],
      "metadata": {
        "colab": {
          "base_uri": "https://localhost:8080/"
        },
        "id": "XS_0UGapyn5R",
        "outputId": "db5e005d-fa23-401a-9595-ed1e1ac67e56"
      },
      "execution_count": 21,
      "outputs": [
        {
          "output_type": "execute_result",
          "data": {
            "text/plain": [
              "150"
            ]
          },
          "metadata": {},
          "execution_count": 21
        }
      ]
    },
    {
      "cell_type": "code",
      "source": [
        "#Calculating MaxAbsScaler\n",
        "x_newValue=(y/max_value)"
      ],
      "metadata": {
        "id": "wV2B_W4Oyn1r"
      },
      "execution_count": 22,
      "outputs": []
    },
    {
      "cell_type": "code",
      "source": [
        "x_newValue"
      ],
      "metadata": {
        "colab": {
          "base_uri": "https://localhost:8080/"
        },
        "id": "mzU75yFdynxz",
        "outputId": "2169deec-bf16-449b-92ec-8c1b309c2a60"
      },
      "execution_count": 23,
      "outputs": [
        {
          "output_type": "execute_result",
          "data": {
            "text/plain": [
              "array([0.73333333, 0.7       , 0.76666667, 0.8       , 0.73333333,\n",
              "       0.86666667, 1.        , 0.66666667, 0.7       ])"
            ]
          },
          "metadata": {},
          "execution_count": 23
        }
      ]
    },
    {
      "cell_type": "markdown",
      "source": [
        "# **Robust Scaler**\n",
        "---\n",
        "> The RobustScaler is a type of feature scaling that's useful when your data contains outliers. It scales features using statistics that are robust to outliers, specifically by subtracting the median and dividing by the interquartile range (IQR). This helps to minimize the impact of outliers on the scaling process.\n",
        "---\n",
        "![download (2).png](data:image/png;base64,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)\n",
        "\n",
        "\n",
        "\n"
      ],
      "metadata": {
        "id": "fwrdg3qcP2QT"
      }
    },
    {
      "cell_type": "code",
      "source": [
        "from sklearn.preprocessing import RobustScaler"
      ],
      "metadata": {
        "id": "iCg0V9-vynuS"
      },
      "execution_count": 24,
      "outputs": []
    },
    {
      "cell_type": "code",
      "source": [
        "#Creating Object\n",
        "scaler=RobustScaler()"
      ],
      "metadata": {
        "id": "YLAh9vW3ynpc"
      },
      "execution_count": 25,
      "outputs": []
    },
    {
      "cell_type": "code",
      "source": [
        "x_new=scaler.fit_transform(df[[\"Price\"]])"
      ],
      "metadata": {
        "id": "FUuTvYuSynhE"
      },
      "execution_count": 26,
      "outputs": []
    },
    {
      "cell_type": "code",
      "source": [
        "x_new"
      ],
      "metadata": {
        "colab": {
          "base_uri": "https://localhost:8080/"
        },
        "id": "jBISAxQmRmtd",
        "outputId": "6c3fa59e-3f02-4687-cb2e-d12d5405b952"
      },
      "execution_count": 27,
      "outputs": [
        {
          "output_type": "execute_result",
          "data": {
            "text/plain": [
              "array([[ 0.        ],\n",
              "       [-0.33333333],\n",
              "       [ 0.33333333],\n",
              "       [ 0.66666667],\n",
              "       [ 0.        ],\n",
              "       [ 1.33333333],\n",
              "       [ 2.66666667],\n",
              "       [-0.66666667],\n",
              "       [-0.33333333]])"
            ]
          },
          "metadata": {},
          "execution_count": 27
        }
      ]
    },
    {
      "cell_type": "markdown",
      "source": [
        "# **Manually**"
      ],
      "metadata": {
        "id": "ltFcqIj2R4GM"
      }
    },
    {
      "cell_type": "code",
      "source": [
        "y"
      ],
      "metadata": {
        "colab": {
          "base_uri": "https://localhost:8080/"
        },
        "id": "MMVsyrVoRmqi",
        "outputId": "583e39a2-08e0-4282-eba5-43d75a0fd9e5"
      },
      "execution_count": 28,
      "outputs": [
        {
          "output_type": "execute_result",
          "data": {
            "text/plain": [
              "array([110, 105, 115, 120, 110, 130, 150, 100, 105])"
            ]
          },
          "metadata": {},
          "execution_count": 28
        }
      ]
    },
    {
      "cell_type": "code",
      "source": [
        "#Calculating Q1\n",
        "Q1=np.percentile(y,25)"
      ],
      "metadata": {
        "id": "jh0yGLcERmnN"
      },
      "execution_count": 30,
      "outputs": []
    },
    {
      "cell_type": "code",
      "source": [
        "print(Q1)"
      ],
      "metadata": {
        "colab": {
          "base_uri": "https://localhost:8080/"
        },
        "id": "zaovT41IRmkE",
        "outputId": "a7c4ad05-955e-4167-8d20-dd77806eac54"
      },
      "execution_count": 31,
      "outputs": [
        {
          "output_type": "stream",
          "name": "stdout",
          "text": [
            "105.0\n"
          ]
        }
      ]
    },
    {
      "cell_type": "code",
      "source": [
        "#Calculating Q2\n",
        "Q2=np.percentile(y,50)"
      ],
      "metadata": {
        "id": "uzez-M4ARmg0"
      },
      "execution_count": 32,
      "outputs": []
    },
    {
      "cell_type": "code",
      "source": [
        "Q2"
      ],
      "metadata": {
        "colab": {
          "base_uri": "https://localhost:8080/"
        },
        "id": "rcXCL5psS65Z",
        "outputId": "d20e10b3-fef7-4ba4-ef6b-b2628e3fe1e6"
      },
      "execution_count": 33,
      "outputs": [
        {
          "output_type": "execute_result",
          "data": {
            "text/plain": [
              "110.0"
            ]
          },
          "metadata": {},
          "execution_count": 33
        }
      ]
    },
    {
      "cell_type": "code",
      "source": [
        "#Calculating Q3\n",
        "Q3=np.percentile(y,75)"
      ],
      "metadata": {
        "id": "zJTFFoetS61k"
      },
      "execution_count": 34,
      "outputs": []
    },
    {
      "cell_type": "code",
      "source": [
        "Q3"
      ],
      "metadata": {
        "colab": {
          "base_uri": "https://localhost:8080/"
        },
        "id": "3WnOeHR0S6x-",
        "outputId": "f334a8b1-8217-43d2-f210-5d0340cf6992"
      },
      "execution_count": 35,
      "outputs": [
        {
          "output_type": "execute_result",
          "data": {
            "text/plain": [
              "120.0"
            ]
          },
          "metadata": {},
          "execution_count": 35
        }
      ]
    },
    {
      "cell_type": "code",
      "source": [
        "#Calculating Robust Scaler\n",
        "x_newValue=(y-Q2)/(Q3-Q1)"
      ],
      "metadata": {
        "id": "prvHgQL_TH6d"
      },
      "execution_count": 36,
      "outputs": []
    },
    {
      "cell_type": "code",
      "source": [
        "x_newValue"
      ],
      "metadata": {
        "colab": {
          "base_uri": "https://localhost:8080/"
        },
        "id": "Z_KRG1pCTH3u",
        "outputId": "ae8b9dac-bed5-4226-b919-7c4fd6ae57ee"
      },
      "execution_count": 37,
      "outputs": [
        {
          "output_type": "execute_result",
          "data": {
            "text/plain": [
              "array([ 0.        , -0.33333333,  0.33333333,  0.66666667,  0.        ,\n",
              "        1.33333333,  2.66666667, -0.66666667, -0.33333333])"
            ]
          },
          "metadata": {},
          "execution_count": 37
        }
      ]
    },
    {
      "cell_type": "code",
      "source": [],
      "metadata": {
        "id": "IelkGKzPTH0H"
      },
      "execution_count": null,
      "outputs": []
    }
  ]
}